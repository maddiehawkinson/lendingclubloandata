{
 "cells": [
  {
   "cell_type": "markdown",
   "metadata": {},
   "source": [
    "## Lending Club Case Study"
   ]
  },
  {
   "cell_type": "markdown",
   "metadata": {},
   "source": [
    "Madison Hawkinson"
   ]
  },
  {
   "cell_type": "code",
   "execution_count": 1610,
   "metadata": {},
   "outputs": [],
   "source": [
    "import numpy as np\n",
    "import pandas as pd\n",
    "import seaborn as sns\n",
    "import dateutil.parser as parse\n",
    "from sklearn.model_selection import train_test_split\n",
    "from sklearn.preprocessing import StandardScaler \n",
    "from sklearn.linear_model import LogisticRegression\n",
    "from sklearn.datasets import make_classification\n",
    "from sklearn.metrics import f1_score, classification_report, log_loss\n",
    "from sklearn.linear_model import LinearRegression\n",
    "import math  \n",
    "pd.set_option('display.max_colwidth', -1)\n",
    "import warnings\n",
    "warnings.filterwarnings('ignore')\n",
    "pal = sns.color_palette(\"Blues_r\")"
   ]
  },
  {
   "cell_type": "markdown",
   "metadata": {},
   "source": [
    "## Part 0: Lending Club Loan Data"
   ]
  },
  {
   "cell_type": "markdown",
   "metadata": {},
   "source": [
    "Overview: \"These files contain complete loan data for all loans issued through the 2007-2015, including the current loan status (Current, Late, Fully Paid, etc.) and latest payment information. The file containing loan data through the \"present\" contains complete loan data for all loans issued through the previous completed calendar quarter. Additional features include credit scores, number of finance inquiries, address including zip codes, and state, and collections among others. The file is a matrix of about 890 thousand observations and 75 variables. A data dictionary is provided in a separate file.\"\n",
    "https://www.kaggle.com/wendykan/lending-club-loan-data"
   ]
  },
  {
   "cell_type": "markdown",
   "metadata": {},
   "source": [
    "## Part 0: Function Definition"
   ]
  },
  {
   "cell_type": "code",
   "execution_count": 1387,
   "metadata": {
    "collapsed": true
   },
   "outputs": [],
   "source": [
    "# get_data requires inputs of desired columns, the file string, file type (excel or csv), and whether to transform the data\n",
    "# output is a dataframe \n",
    "def get_data(columns, file, file_type='csv', transform=False):\n",
    "    if file_type=='csv':\n",
    "        data = pd.read_csv(file)\n",
    "    elif file_type=='excel': \n",
    "        data = pd.read_excel(file) \n",
    "        data=data.fillna('')\n",
    "        if transform: \n",
    "            data = pd.DataFrame(data.T.rename(columns=data.T.iloc[0]).iloc[1]).T\n",
    "    return data[columns]"
   ]
  },
  {
   "cell_type": "code",
   "execution_count": 1388,
   "metadata": {
    "collapsed": true
   },
   "outputs": [],
   "source": [
    "# parses a string to generate a year using parser pkg \n",
    "def get_year(string_year):\n",
    "    year = parser.parse(string_year).year\n",
    "    return year"
   ]
  },
  {
   "cell_type": "code",
   "execution_count": 1389,
   "metadata": {
    "collapsed": true
   },
   "outputs": [],
   "source": [
    "# uses parser function to iterate extract years for entire dataframe and build new column\n",
    "def get_all_years(data):\n",
    "    data['year']=0\n",
    "    for index,row in data.iterrows():\n",
    "        year = get_year(row.issue_d)\n",
    "        data.set_value(index, 'year', year)\n",
    "    return data"
   ]
  },
  {
   "cell_type": "code",
   "execution_count": 1390,
   "metadata": {
    "collapsed": true
   },
   "outputs": [],
   "source": [
    "# function calculates annualized rate of return \n",
    "def calculate_ror(total_pymnt, funded_amnt):\n",
    "    ror = ((total_pymnt/funded_amnt)**(1/3))-1\n",
    "    return ror"
   ]
  },
  {
   "cell_type": "code",
   "execution_count": 1391,
   "metadata": {
    "collapsed": true
   },
   "outputs": [],
   "source": [
    "# iterates over entire dataframe to calculate all rate of returns\n",
    "def get_all_rors(data):\n",
    "    data['annualized_rate_of_return']=0.0\n",
    "    for index,row in data.iterrows():\n",
    "        ror = calculate_ror(row.total_pymnt, row.funded_amnt)\n",
    "        data.set_value(index, 'annualized_rate_of_return', ror)\n",
    "    return data"
   ]
  },
  {
   "cell_type": "code",
   "execution_count": 1392,
   "metadata": {
    "collapsed": true
   },
   "outputs": [],
   "source": [
    "# winsorizes a column in a dataframe given the percentiles desired\n",
    "def winsorize_data(data, col, p_lower, p_upper):\n",
    "    quantiles = loan_data[col].quantile([p_lower, p_upper])\n",
    "    q_lower = quantiles.loc[p_lower]\n",
    "    q_upper = quantiles.loc[p_upper]\n",
    "    data[col] = data[col].clip(lower=q_lower, upper=q_upper)\n",
    "    return data"
   ]
  },
  {
   "cell_type": "code",
   "execution_count": 1523,
   "metadata": {
    "collapsed": true
   },
   "outputs": [],
   "source": [
    "# fit linear regression model\n",
    "def fit_lin_reg(data, feature, label='default_label', one_hot=True):\n",
    "    x_feature = loan_data_36_months[feature]\n",
    "    if one_hot: \n",
    "        x_feature = pd.get_dummies(x_feature, columns=[feature])\n",
    "    y_label = loan_data_36_months[label]\n",
    "    linreg = LinearRegression()\n",
    "    return linreg, x_feature, y_label"
   ]
  },
  {
   "cell_type": "code",
   "execution_count": 1521,
   "metadata": {
    "collapsed": true
   },
   "outputs": [],
   "source": [
    "# get r squared from linear regression model between two variables\n",
    "def calculate_r_sq(data, feature, label='default_label', one_hot=True):\n",
    "    linreg, x_feature, y_label = fit_lin_reg(data, feature, label, one_hot)\n",
    "    linreg.fit(x_feature, y_label)\n",
    "    r_sq = linreg.score(x_feature, y_label)\n",
    "    return r_sq"
   ]
  },
  {
   "cell_type": "code",
   "execution_count": 1539,
   "metadata": {
    "collapsed": true
   },
   "outputs": [],
   "source": [
    "# calculate rmse as defined by: https://stackoverflow.com/questions/17197492/is-there-a-library-function-for-root-mean-square-error-rmse-in-python\n",
    "def eval_rmse(preds, labels):\n",
    "    n = len(preds)\n",
    "    rmse = np.linalg.norm(preds - labels) / np.sqrt(n)\n",
    "    return rmse"
   ]
  },
  {
   "cell_type": "markdown",
   "metadata": {},
   "source": [
    "## Part 1: Data Exploration and Evaluation"
   ]
  },
  {
   "cell_type": "code",
   "execution_count": 511,
   "metadata": {
    "collapsed": true
   },
   "outputs": [],
   "source": [
    "columns=['loan_amnt', \n",
    "          'funded_amnt', \n",
    "          'term', \n",
    "          'int_rate', \n",
    "          'grade', \n",
    "          'annual_inc', \n",
    "          'issue_d',\n",
    "          'dti', \n",
    "          'revol_bal', \n",
    "          'total_pymnt', \n",
    "          'loan_status']"
   ]
  },
  {
   "cell_type": "code",
   "execution_count": 72,
   "metadata": {
    "collapsed": true
   },
   "outputs": [],
   "source": [
    "loan_data_descriptions = get_data(columns, \"LCDataDictionary.xlsx\", 'excel', True)"
   ]
  },
  {
   "cell_type": "code",
   "execution_count": 118,
   "metadata": {},
   "outputs": [
    {
     "data": {
      "application/vnd.dataresource+json": {
       "data": [
        {
         "annual_inc": "The self-reported annual income provided by the borrower during registration.",
         "dti": "A ratio calculated using the borrower’s total monthly debt payments on the total debt obligations, excluding mortgage and the requested LC loan, divided by the borrower’s self-reported monthly income.",
         "funded_amnt": "The total amount committed to that loan at that point in time.",
         "grade": "LC assigned loan grade",
         "index": "Description",
         "int_rate": "Interest Rate on the loan",
         "issue_d": "The month which the loan was funded",
         "loan_amnt": "The listed amount of the loan applied for by the borrower. If at some point in time, the credit department reduces the loan amount, then it will be reflected in this value.",
         "loan_status": "Current status of the loan",
         "revol_bal": "Total credit revolving balance",
         "term": "The number of payments on the loan. Values are in months and can be either 36 or 60.",
         "total_pymnt": "Payments received to date for total amount funded"
        }
       ],
       "schema": {
        "fields": [
         {
          "name": "index",
          "type": "string"
         },
         {
          "name": "loan_amnt",
          "type": "string"
         },
         {
          "name": "funded_amnt",
          "type": "string"
         },
         {
          "name": "term",
          "type": "string"
         },
         {
          "name": "int_rate",
          "type": "string"
         },
         {
          "name": "grade",
          "type": "string"
         },
         {
          "name": "annual_inc",
          "type": "string"
         },
         {
          "name": "issue_d",
          "type": "string"
         },
         {
          "name": "dti",
          "type": "string"
         },
         {
          "name": "revol_bal",
          "type": "string"
         },
         {
          "name": "total_pymnt",
          "type": "string"
         },
         {
          "name": "loan_status",
          "type": "string"
         }
        ],
        "pandas_version": "0.20.0",
        "primaryKey": [
         "index"
        ]
       }
      },
      "text/html": [
       "<div>\n",
       "<style scoped>\n",
       "    .dataframe tbody tr th:only-of-type {\n",
       "        vertical-align: middle;\n",
       "    }\n",
       "\n",
       "    .dataframe tbody tr th {\n",
       "        vertical-align: top;\n",
       "    }\n",
       "\n",
       "    .dataframe thead th {\n",
       "        text-align: right;\n",
       "    }\n",
       "</style>\n",
       "<table border=\"1\" class=\"dataframe\">\n",
       "  <thead>\n",
       "    <tr style=\"text-align: right;\">\n",
       "      <th></th>\n",
       "      <th>loan_amnt</th>\n",
       "      <th>funded_amnt</th>\n",
       "      <th>term</th>\n",
       "      <th>int_rate</th>\n",
       "      <th>grade</th>\n",
       "      <th>annual_inc</th>\n",
       "      <th>issue_d</th>\n",
       "      <th>dti</th>\n",
       "      <th>revol_bal</th>\n",
       "      <th>total_pymnt</th>\n",
       "      <th>loan_status</th>\n",
       "    </tr>\n",
       "  </thead>\n",
       "  <tbody>\n",
       "    <tr>\n",
       "      <th>Description</th>\n",
       "      <td>The listed amount of the loan applied for by the borrower. If at some point in time, the credit department reduces the loan amount, then it will be reflected in this value.</td>\n",
       "      <td>The total amount committed to that loan at that point in time.</td>\n",
       "      <td>The number of payments on the loan. Values are in months and can be either 36 or 60.</td>\n",
       "      <td>Interest Rate on the loan</td>\n",
       "      <td>LC assigned loan grade</td>\n",
       "      <td>The self-reported annual income provided by the borrower during registration.</td>\n",
       "      <td>The month which the loan was funded</td>\n",
       "      <td>A ratio calculated using the borrower’s total monthly debt payments on the total debt obligations, excluding mortgage and the requested LC loan, divided by the borrower’s self-reported monthly income.</td>\n",
       "      <td>Total credit revolving balance</td>\n",
       "      <td>Payments received to date for total amount funded</td>\n",
       "      <td>Current status of the loan</td>\n",
       "    </tr>\n",
       "  </tbody>\n",
       "</table>\n",
       "</div>"
      ],
      "text/plain": [
       "                                                                                                                                                                                loan_amnt  \\\n",
       "Description  The listed amount of the loan applied for by the borrower. If at some point in time, the credit department reduces the loan amount, then it will be reflected in this value.   \n",
       "\n",
       "                                                                funded_amnt  \\\n",
       "Description  The total amount committed to that loan at that point in time.   \n",
       "\n",
       "                                                                                             term  \\\n",
       "Description  The number of payments on the loan. Values are in months and can be either 36 or 60.   \n",
       "\n",
       "                              int_rate                   grade  \\\n",
       "Description  Interest Rate on the loan  LC assigned loan grade   \n",
       "\n",
       "                                                                                annual_inc  \\\n",
       "Description  The self-reported annual income provided by the borrower during registration.   \n",
       "\n",
       "                                         issue_d  \\\n",
       "Description  The month which the loan was funded   \n",
       "\n",
       "                                                                                                                                                                                                                  dti  \\\n",
       "Description  A ratio calculated using the borrower’s total monthly debt payments on the total debt obligations, excluding mortgage and the requested LC loan, divided by the borrower’s self-reported monthly income.   \n",
       "\n",
       "                                  revol_bal  \\\n",
       "Description  Total credit revolving balance   \n",
       "\n",
       "                                                   total_pymnt  \\\n",
       "Description  Payments received to date for total amount funded   \n",
       "\n",
       "                            loan_status  \n",
       "Description  Current status of the loan  "
      ]
     },
     "execution_count": 118,
     "metadata": {
      "bento_obj_id": "140455442000528"
     },
     "output_type": "execute_result"
    }
   ],
   "source": [
    "loan_data_descriptions"
   ]
  },
  {
   "cell_type": "code",
   "execution_count": 913,
   "metadata": {
    "collapsed": true
   },
   "outputs": [],
   "source": [
    "loan_data = get_data(columns, \"loan.csv\")"
   ]
  },
  {
   "cell_type": "code",
   "execution_count": 915,
   "metadata": {},
   "outputs": [
    {
     "data": {
      "application/vnd.dataresource+json": {
       "data": [
        {
         "annual_inc": 55000,
         "dti": 18.24,
         "funded_amnt": 2500,
         "grade": "C",
         "index": 0,
         "int_rate": 13.56,
         "issue_d": "Dec-2018",
         "loan_amnt": 2500,
         "loan_status": "Current",
         "revol_bal": 4341,
         "term": " 36 months",
         "total_pymnt": 167.02
        },
        {
         "annual_inc": 90000,
         "dti": 26.52,
         "funded_amnt": 30000,
         "grade": "D",
         "index": 1,
         "int_rate": 18.94,
         "issue_d": "Dec-2018",
         "loan_amnt": 30000,
         "loan_status": "Current",
         "revol_bal": 12315,
         "term": " 60 months",
         "total_pymnt": 1507.11
        },
        {
         "annual_inc": 59280,
         "dti": 10.51,
         "funded_amnt": 5000,
         "grade": "D",
         "index": 2,
         "int_rate": 17.97,
         "issue_d": "Dec-2018",
         "loan_amnt": 5000,
         "loan_status": "Current",
         "revol_bal": 4599,
         "term": " 36 months",
         "total_pymnt": 353.89
        },
        {
         "annual_inc": 92000,
         "dti": 16.74,
         "funded_amnt": 4000,
         "grade": "D",
         "index": 3,
         "int_rate": 18.94,
         "issue_d": "Dec-2018",
         "loan_amnt": 4000,
         "loan_status": "Current",
         "revol_bal": 5468,
         "term": " 36 months",
         "total_pymnt": 286.71
        },
        {
         "annual_inc": 57250,
         "dti": 26.35,
         "funded_amnt": 30000,
         "grade": "C",
         "index": 4,
         "int_rate": 16.14,
         "issue_d": "Dec-2018",
         "loan_amnt": 30000,
         "loan_status": "Current",
         "revol_bal": 829,
         "term": " 60 months",
         "total_pymnt": 1423.21
        }
       ],
       "schema": {
        "fields": [
         {
          "name": "index",
          "type": "integer"
         },
         {
          "name": "loan_amnt",
          "type": "integer"
         },
         {
          "name": "funded_amnt",
          "type": "integer"
         },
         {
          "name": "term",
          "type": "string"
         },
         {
          "name": "int_rate",
          "type": "number"
         },
         {
          "name": "grade",
          "type": "string"
         },
         {
          "name": "annual_inc",
          "type": "number"
         },
         {
          "name": "issue_d",
          "type": "string"
         },
         {
          "name": "dti",
          "type": "number"
         },
         {
          "name": "revol_bal",
          "type": "number"
         },
         {
          "name": "total_pymnt",
          "type": "number"
         },
         {
          "name": "loan_status",
          "type": "string"
         }
        ],
        "pandas_version": "0.20.0",
        "primaryKey": [
         "index"
        ]
       }
      },
      "text/html": [
       "<div>\n",
       "<style scoped>\n",
       "    .dataframe tbody tr th:only-of-type {\n",
       "        vertical-align: middle;\n",
       "    }\n",
       "\n",
       "    .dataframe tbody tr th {\n",
       "        vertical-align: top;\n",
       "    }\n",
       "\n",
       "    .dataframe thead th {\n",
       "        text-align: right;\n",
       "    }\n",
       "</style>\n",
       "<table border=\"1\" class=\"dataframe\">\n",
       "  <thead>\n",
       "    <tr style=\"text-align: right;\">\n",
       "      <th></th>\n",
       "      <th>loan_amnt</th>\n",
       "      <th>funded_amnt</th>\n",
       "      <th>term</th>\n",
       "      <th>int_rate</th>\n",
       "      <th>grade</th>\n",
       "      <th>annual_inc</th>\n",
       "      <th>issue_d</th>\n",
       "      <th>dti</th>\n",
       "      <th>revol_bal</th>\n",
       "      <th>total_pymnt</th>\n",
       "      <th>loan_status</th>\n",
       "    </tr>\n",
       "  </thead>\n",
       "  <tbody>\n",
       "    <tr>\n",
       "      <th>0</th>\n",
       "      <td>2500</td>\n",
       "      <td>2500</td>\n",
       "      <td>36 months</td>\n",
       "      <td>13.56</td>\n",
       "      <td>C</td>\n",
       "      <td>55000.0</td>\n",
       "      <td>Dec-2018</td>\n",
       "      <td>18.24</td>\n",
       "      <td>4341.0</td>\n",
       "      <td>167.02</td>\n",
       "      <td>Current</td>\n",
       "    </tr>\n",
       "    <tr>\n",
       "      <th>1</th>\n",
       "      <td>30000</td>\n",
       "      <td>30000</td>\n",
       "      <td>60 months</td>\n",
       "      <td>18.94</td>\n",
       "      <td>D</td>\n",
       "      <td>90000.0</td>\n",
       "      <td>Dec-2018</td>\n",
       "      <td>26.52</td>\n",
       "      <td>12315.0</td>\n",
       "      <td>1507.11</td>\n",
       "      <td>Current</td>\n",
       "    </tr>\n",
       "    <tr>\n",
       "      <th>2</th>\n",
       "      <td>5000</td>\n",
       "      <td>5000</td>\n",
       "      <td>36 months</td>\n",
       "      <td>17.97</td>\n",
       "      <td>D</td>\n",
       "      <td>59280.0</td>\n",
       "      <td>Dec-2018</td>\n",
       "      <td>10.51</td>\n",
       "      <td>4599.0</td>\n",
       "      <td>353.89</td>\n",
       "      <td>Current</td>\n",
       "    </tr>\n",
       "    <tr>\n",
       "      <th>3</th>\n",
       "      <td>4000</td>\n",
       "      <td>4000</td>\n",
       "      <td>36 months</td>\n",
       "      <td>18.94</td>\n",
       "      <td>D</td>\n",
       "      <td>92000.0</td>\n",
       "      <td>Dec-2018</td>\n",
       "      <td>16.74</td>\n",
       "      <td>5468.0</td>\n",
       "      <td>286.71</td>\n",
       "      <td>Current</td>\n",
       "    </tr>\n",
       "    <tr>\n",
       "      <th>4</th>\n",
       "      <td>30000</td>\n",
       "      <td>30000</td>\n",
       "      <td>60 months</td>\n",
       "      <td>16.14</td>\n",
       "      <td>C</td>\n",
       "      <td>57250.0</td>\n",
       "      <td>Dec-2018</td>\n",
       "      <td>26.35</td>\n",
       "      <td>829.0</td>\n",
       "      <td>1423.21</td>\n",
       "      <td>Current</td>\n",
       "    </tr>\n",
       "  </tbody>\n",
       "</table>\n",
       "</div>"
      ],
      "text/plain": [
       "   loan_amnt  funded_amnt        term  int_rate grade  annual_inc   issue_d  \\\n",
       "0  2500       2500          36 months  13.56     C     55000.0     Dec-2018   \n",
       "1  30000      30000         60 months  18.94     D     90000.0     Dec-2018   \n",
       "2  5000       5000          36 months  17.97     D     59280.0     Dec-2018   \n",
       "3  4000       4000          36 months  18.94     D     92000.0     Dec-2018   \n",
       "4  30000      30000         60 months  16.14     C     57250.0     Dec-2018   \n",
       "\n",
       "     dti  revol_bal  total_pymnt loan_status  \n",
       "0  18.24  4341.0     167.02       Current     \n",
       "1  26.52  12315.0    1507.11      Current     \n",
       "2  10.51  4599.0     353.89       Current     \n",
       "3  16.74  5468.0     286.71       Current     \n",
       "4  26.35  829.0      1423.21      Current     "
      ]
     },
     "execution_count": 915,
     "metadata": {
      "bento_obj_id": "140444373685456"
     },
     "output_type": "execute_result"
    }
   ],
   "source": [
    "loan_data.head()"
   ]
  },
  {
   "cell_type": "markdown",
   "metadata": {},
   "source": [
    "### Summary Statistics"
   ]
  },
  {
   "cell_type": "markdown",
   "metadata": {},
   "source": [
    "• Loan amount and funded amount appear to be nearly identical. "
   ]
  },
  {
   "cell_type": "markdown",
   "metadata": {},
   "source": [
    "• Interest rate appears to cleanly fit the reasonable range between 0-30% (due to Usury laws).  "
   ]
  },
  {
   "cell_type": "markdown",
   "metadata": {},
   "source": [
    "• DTI has unreasonably high minimums and maximums for a rate, indicating outliers that should be processed. "
   ]
  },
  {
   "cell_type": "code",
   "execution_count": 916,
   "metadata": {},
   "outputs": [
    {
     "data": {
      "application/vnd.dataresource+json": {
       "data": [
        {
         "annual_inc": 957839,
         "dti": 956643,
         "funded_amnt": 957840,
         "index": "count",
         "int_rate": 957840,
         "loan_amnt": 957840,
         "revol_bal": 957839,
         "total_pymnt": 957839
        },
        {
         "annual_inc": 79783.8578802178,
         "dti": 19.2964470654,
         "funded_amnt": 15409.2964639188,
         "index": "mean",
         "int_rate": 12.8571710724,
         "loan_amnt": 15409.3256963585,
         "revol_bal": 16608.5666641262,
         "total_pymnt": 9003.2693808405
        },
        {
         "annual_inc": 83527.9786680123,
         "dti": 16.3942616614,
         "funded_amnt": 9615.1743532548,
         "index": "std",
         "int_rate": 5.0295202107,
         "loan_amnt": 9615.1722402083,
         "revol_bal": 23336.671788504,
         "total_pymnt": 9008.2706746205
        },
        {
         "annual_inc": 0,
         "dti": -1,
         "funded_amnt": 1000,
         "index": "min",
         "int_rate": 1,
         "loan_amnt": 1000,
         "revol_bal": 0,
         "total_pymnt": 0
        },
        {
         "annual_inc": 15336.76,
         "dti": 1.55,
         "funded_amnt": 1500,
         "index": "1%",
         "int_rate": 5.32,
         "loan_amnt": 1500,
         "revol_bal": 57,
         "total_pymnt": 311.66
        },
        {
         "annual_inc": 27000,
         "dti": 4.75,
         "funded_amnt": 3200,
         "index": "5%",
         "int_rate": 6.11,
         "loan_amnt": 3200,
         "revol_bal": 1310,
         "total_pymnt": 734.62
        },
        {
         "annual_inc": 34000,
         "dti": 7.13,
         "funded_amnt": 5000,
         "index": "10%",
         "int_rate": 6.99,
         "loan_amnt": 5000,
         "revol_bal": 2615,
         "total_pymnt": 1134.24
        },
        {
         "annual_inc": 47000,
         "dti": 11.88,
         "funded_amnt": 8000,
         "index": "25%",
         "int_rate": 9.16,
         "loan_amnt": 8000,
         "revol_bal": 5657,
         "total_pymnt": 2414.88
        },
        {
         "annual_inc": 66000,
         "dti": 17.99,
         "funded_amnt": 13000,
         "index": "50%",
         "int_rate": 11.99,
         "loan_amnt": 13000,
         "revol_bal": 11034,
         "total_pymnt": 5779.36
        },
        {
         "annual_inc": 95000,
         "dti": 24.97,
         "funded_amnt": 20000,
         "index": "75%",
         "int_rate": 15.59,
         "loan_amnt": 20000,
         "revol_bal": 19999,
         "total_pymnt": 12460.4897008312
        },
        {
         "annual_inc": 135000,
         "dti": 31.4,
         "funded_amnt": 30000,
         "index": "90%",
         "int_rate": 19.92,
         "loan_amnt": 30000,
         "revol_bal": 33864.2000000001,
         "total_pymnt": 22030.2280401283
        },
        {
         "annual_inc": 168000,
         "dti": 35,
         "funded_amnt": 35000,
         "index": "95%",
         "int_rate": 22.39,
         "loan_amnt": 35000,
         "revol_bal": 46602,
         "total_pymnt": 28445.3813833621
        },
        {
         "annual_inc": 284091.1399999993,
         "dti": 49.22,
         "funded_amnt": 40000,
         "index": "99%",
         "int_rate": 27.27,
         "loan_amnt": 40000,
         "revol_bal": 101565.2,
         "total_pymnt": 40104.4415777781
        },
        {
         "annual_inc": 9930475,
         "dti": 999,
         "funded_amnt": 40000,
         "index": "max",
         "int_rate": 30.99,
         "loan_amnt": 40000,
         "revol_bal": 2358150,
         "total_pymnt": 59808.262093064
        }
       ],
       "schema": {
        "fields": [
         {
          "name": "index",
          "type": "string"
         },
         {
          "name": "loan_amnt",
          "type": "number"
         },
         {
          "name": "funded_amnt",
          "type": "number"
         },
         {
          "name": "int_rate",
          "type": "number"
         },
         {
          "name": "annual_inc",
          "type": "number"
         },
         {
          "name": "dti",
          "type": "number"
         },
         {
          "name": "revol_bal",
          "type": "number"
         },
         {
          "name": "total_pymnt",
          "type": "number"
         }
        ],
        "pandas_version": "0.20.0",
        "primaryKey": [
         "index"
        ]
       }
      },
      "text/html": [
       "<div>\n",
       "<style scoped>\n",
       "    .dataframe tbody tr th:only-of-type {\n",
       "        vertical-align: middle;\n",
       "    }\n",
       "\n",
       "    .dataframe tbody tr th {\n",
       "        vertical-align: top;\n",
       "    }\n",
       "\n",
       "    .dataframe thead th {\n",
       "        text-align: right;\n",
       "    }\n",
       "</style>\n",
       "<table border=\"1\" class=\"dataframe\">\n",
       "  <thead>\n",
       "    <tr style=\"text-align: right;\">\n",
       "      <th></th>\n",
       "      <th>loan_amnt</th>\n",
       "      <th>funded_amnt</th>\n",
       "      <th>int_rate</th>\n",
       "      <th>annual_inc</th>\n",
       "      <th>dti</th>\n",
       "      <th>revol_bal</th>\n",
       "      <th>total_pymnt</th>\n",
       "    </tr>\n",
       "  </thead>\n",
       "  <tbody>\n",
       "    <tr>\n",
       "      <th>count</th>\n",
       "      <td>957840.000000</td>\n",
       "      <td>957840.000000</td>\n",
       "      <td>957840.000000</td>\n",
       "      <td>9.578390e+05</td>\n",
       "      <td>956643.000000</td>\n",
       "      <td>9.578390e+05</td>\n",
       "      <td>957839.000000</td>\n",
       "    </tr>\n",
       "    <tr>\n",
       "      <th>mean</th>\n",
       "      <td>15409.325696</td>\n",
       "      <td>15409.296464</td>\n",
       "      <td>12.857171</td>\n",
       "      <td>7.978386e+04</td>\n",
       "      <td>19.296447</td>\n",
       "      <td>1.660857e+04</td>\n",
       "      <td>9003.269381</td>\n",
       "    </tr>\n",
       "    <tr>\n",
       "      <th>std</th>\n",
       "      <td>9615.172240</td>\n",
       "      <td>9615.174353</td>\n",
       "      <td>5.029520</td>\n",
       "      <td>8.352798e+04</td>\n",
       "      <td>16.394262</td>\n",
       "      <td>2.333667e+04</td>\n",
       "      <td>9008.270675</td>\n",
       "    </tr>\n",
       "    <tr>\n",
       "      <th>min</th>\n",
       "      <td>1000.000000</td>\n",
       "      <td>1000.000000</td>\n",
       "      <td>1.000000</td>\n",
       "      <td>0.000000e+00</td>\n",
       "      <td>-1.000000</td>\n",
       "      <td>0.000000e+00</td>\n",
       "      <td>0.000000</td>\n",
       "    </tr>\n",
       "    <tr>\n",
       "      <th>1%</th>\n",
       "      <td>1500.000000</td>\n",
       "      <td>1500.000000</td>\n",
       "      <td>5.320000</td>\n",
       "      <td>1.533676e+04</td>\n",
       "      <td>1.550000</td>\n",
       "      <td>5.700000e+01</td>\n",
       "      <td>311.660000</td>\n",
       "    </tr>\n",
       "    <tr>\n",
       "      <th>5%</th>\n",
       "      <td>3200.000000</td>\n",
       "      <td>3200.000000</td>\n",
       "      <td>6.110000</td>\n",
       "      <td>2.700000e+04</td>\n",
       "      <td>4.750000</td>\n",
       "      <td>1.310000e+03</td>\n",
       "      <td>734.620000</td>\n",
       "    </tr>\n",
       "    <tr>\n",
       "      <th>10%</th>\n",
       "      <td>5000.000000</td>\n",
       "      <td>5000.000000</td>\n",
       "      <td>6.990000</td>\n",
       "      <td>3.400000e+04</td>\n",
       "      <td>7.130000</td>\n",
       "      <td>2.615000e+03</td>\n",
       "      <td>1134.240000</td>\n",
       "    </tr>\n",
       "    <tr>\n",
       "      <th>25%</th>\n",
       "      <td>8000.000000</td>\n",
       "      <td>8000.000000</td>\n",
       "      <td>9.160000</td>\n",
       "      <td>4.700000e+04</td>\n",
       "      <td>11.880000</td>\n",
       "      <td>5.657000e+03</td>\n",
       "      <td>2414.880000</td>\n",
       "    </tr>\n",
       "    <tr>\n",
       "      <th>50%</th>\n",
       "      <td>13000.000000</td>\n",
       "      <td>13000.000000</td>\n",
       "      <td>11.990000</td>\n",
       "      <td>6.600000e+04</td>\n",
       "      <td>17.990000</td>\n",
       "      <td>1.103400e+04</td>\n",
       "      <td>5779.360000</td>\n",
       "    </tr>\n",
       "    <tr>\n",
       "      <th>75%</th>\n",
       "      <td>20000.000000</td>\n",
       "      <td>20000.000000</td>\n",
       "      <td>15.590000</td>\n",
       "      <td>9.500000e+04</td>\n",
       "      <td>24.970000</td>\n",
       "      <td>1.999900e+04</td>\n",
       "      <td>12460.489701</td>\n",
       "    </tr>\n",
       "    <tr>\n",
       "      <th>90%</th>\n",
       "      <td>30000.000000</td>\n",
       "      <td>30000.000000</td>\n",
       "      <td>19.920000</td>\n",
       "      <td>1.350000e+05</td>\n",
       "      <td>31.400000</td>\n",
       "      <td>3.386420e+04</td>\n",
       "      <td>22030.228040</td>\n",
       "    </tr>\n",
       "    <tr>\n",
       "      <th>95%</th>\n",
       "      <td>35000.000000</td>\n",
       "      <td>35000.000000</td>\n",
       "      <td>22.390000</td>\n",
       "      <td>1.680000e+05</td>\n",
       "      <td>35.000000</td>\n",
       "      <td>4.660200e+04</td>\n",
       "      <td>28445.381383</td>\n",
       "    </tr>\n",
       "    <tr>\n",
       "      <th>99%</th>\n",
       "      <td>40000.000000</td>\n",
       "      <td>40000.000000</td>\n",
       "      <td>27.270000</td>\n",
       "      <td>2.840911e+05</td>\n",
       "      <td>49.220000</td>\n",
       "      <td>1.015652e+05</td>\n",
       "      <td>40104.441578</td>\n",
       "    </tr>\n",
       "    <tr>\n",
       "      <th>max</th>\n",
       "      <td>40000.000000</td>\n",
       "      <td>40000.000000</td>\n",
       "      <td>30.990000</td>\n",
       "      <td>9.930475e+06</td>\n",
       "      <td>999.000000</td>\n",
       "      <td>2.358150e+06</td>\n",
       "      <td>59808.262093</td>\n",
       "    </tr>\n",
       "  </tbody>\n",
       "</table>\n",
       "</div>"
      ],
      "text/plain": [
       "           loan_amnt    funded_amnt       int_rate    annual_inc  \\\n",
       "count  957840.000000  957840.000000  957840.000000  9.578390e+05   \n",
       "mean   15409.325696   15409.296464   12.857171      7.978386e+04   \n",
       "std    9615.172240    9615.174353    5.029520       8.352798e+04   \n",
       "min    1000.000000    1000.000000    1.000000       0.000000e+00   \n",
       "1%     1500.000000    1500.000000    5.320000       1.533676e+04   \n",
       "5%     3200.000000    3200.000000    6.110000       2.700000e+04   \n",
       "10%    5000.000000    5000.000000    6.990000       3.400000e+04   \n",
       "25%    8000.000000    8000.000000    9.160000       4.700000e+04   \n",
       "50%    13000.000000   13000.000000   11.990000      6.600000e+04   \n",
       "75%    20000.000000   20000.000000   15.590000      9.500000e+04   \n",
       "90%    30000.000000   30000.000000   19.920000      1.350000e+05   \n",
       "95%    35000.000000   35000.000000   22.390000      1.680000e+05   \n",
       "99%    40000.000000   40000.000000   27.270000      2.840911e+05   \n",
       "max    40000.000000   40000.000000   30.990000      9.930475e+06   \n",
       "\n",
       "                 dti     revol_bal    total_pymnt  \n",
       "count  956643.000000  9.578390e+05  957839.000000  \n",
       "mean   19.296447      1.660857e+04  9003.269381    \n",
       "std    16.394262      2.333667e+04  9008.270675    \n",
       "min   -1.000000       0.000000e+00  0.000000       \n",
       "1%     1.550000       5.700000e+01  311.660000     \n",
       "5%     4.750000       1.310000e+03  734.620000     \n",
       "10%    7.130000       2.615000e+03  1134.240000    \n",
       "25%    11.880000      5.657000e+03  2414.880000    \n",
       "50%    17.990000      1.103400e+04  5779.360000    \n",
       "75%    24.970000      1.999900e+04  12460.489701   \n",
       "90%    31.400000      3.386420e+04  22030.228040   \n",
       "95%    35.000000      4.660200e+04  28445.381383   \n",
       "99%    49.220000      1.015652e+05  40104.441578   \n",
       "max    999.000000     2.358150e+06  59808.262093   "
      ]
     },
     "execution_count": 916,
     "metadata": {
      "bento_obj_id": "140445254493776"
     },
     "output_type": "execute_result"
    }
   ],
   "source": [
    "loan_data.describe(percentiles=[.01, .05, .1, .25, .5, .75, .9, .95, .99])"
   ]
  },
  {
   "cell_type": "markdown",
   "metadata": {},
   "source": [
    "### Cleaning Data"
   ]
  },
  {
   "cell_type": "markdown",
   "metadata": {},
   "source": [
    "No duplicates exist."
   ]
  },
  {
   "cell_type": "code",
   "execution_count": 932,
   "metadata": {},
   "outputs": [
    {
     "data": {
      "application/vnd.dataresource+json": {
       "data": [],
       "schema": {
        "fields": [
         {
          "name": "index",
          "type": "integer"
         },
         {
          "name": "loan_amnt",
          "type": "integer"
         },
         {
          "name": "funded_amnt",
          "type": "integer"
         },
         {
          "name": "term",
          "type": "string"
         },
         {
          "name": "int_rate",
          "type": "number"
         },
         {
          "name": "grade",
          "type": "string"
         },
         {
          "name": "annual_inc",
          "type": "number"
         },
         {
          "name": "issue_d",
          "type": "string"
         },
         {
          "name": "dti",
          "type": "number"
         },
         {
          "name": "revol_bal",
          "type": "number"
         },
         {
          "name": "total_pymnt",
          "type": "number"
         },
         {
          "name": "loan_status",
          "type": "string"
         }
        ],
        "pandas_version": "0.20.0",
        "primaryKey": [
         "index"
        ]
       }
      },
      "text/html": [
       "<div>\n",
       "<style scoped>\n",
       "    .dataframe tbody tr th:only-of-type {\n",
       "        vertical-align: middle;\n",
       "    }\n",
       "\n",
       "    .dataframe tbody tr th {\n",
       "        vertical-align: top;\n",
       "    }\n",
       "\n",
       "    .dataframe thead th {\n",
       "        text-align: right;\n",
       "    }\n",
       "</style>\n",
       "<table border=\"1\" class=\"dataframe\">\n",
       "  <thead>\n",
       "    <tr style=\"text-align: right;\">\n",
       "      <th></th>\n",
       "      <th>loan_amnt</th>\n",
       "      <th>funded_amnt</th>\n",
       "      <th>term</th>\n",
       "      <th>int_rate</th>\n",
       "      <th>grade</th>\n",
       "      <th>annual_inc</th>\n",
       "      <th>issue_d</th>\n",
       "      <th>dti</th>\n",
       "      <th>revol_bal</th>\n",
       "      <th>total_pymnt</th>\n",
       "      <th>loan_status</th>\n",
       "    </tr>\n",
       "  </thead>\n",
       "  <tbody>\n",
       "  </tbody>\n",
       "</table>\n",
       "</div>"
      ],
      "text/plain": [
       "Empty DataFrame\n",
       "Columns: [loan_amnt, funded_amnt, term, int_rate, grade, annual_inc, issue_d, dti, revol_bal, total_pymnt, loan_status]\n",
       "Index: []"
      ]
     },
     "execution_count": 932,
     "metadata": {
      "bento_obj_id": "140447216105040"
     },
     "output_type": "execute_result"
    }
   ],
   "source": [
    "loan_data[loan_data.duplicated()] "
   ]
  },
  {
   "cell_type": "markdown",
   "metadata": {},
   "source": [
    "No obvious nulls/problematic columns in dataset."
   ]
  },
  {
   "cell_type": "code",
   "execution_count": 1355,
   "metadata": {},
   "outputs": [
    {
     "data": {
      "text/plain": [
       "<matplotlib.axes._subplots.AxesSubplot at 0x7fbbf73c1550>"
      ]
     },
     "execution_count": 1355,
     "metadata": {
      "bento_obj_id": "140445283521872"
     },
     "output_type": "execute_result"
    },
    {
     "data": {
      "image/png": "[encoded data removed]",
      "text/plain": [
       "<Figure size 432x288 with 2 Axes>"
      ]
     },
     "metadata": {
      "bento_obj_id": "140445259091280"
     },
     "output_type": "display_data"
    }
   ],
   "source": [
    "sns.heatmap(loan_data.isnull(), cmap=\"Blues_r\")"
   ]
  },
  {
   "cell_type": "markdown",
   "metadata": {},
   "source": [
    "Evidence of one outlier with many nulls, can be removed since it's negligible. "
   ]
  },
  {
   "cell_type": "code",
   "execution_count": 919,
   "metadata": {},
   "outputs": [
    {
     "data": {
      "application/vnd.dataresource+json": {
       "data": [
        {
         "index": "loan_amnt",
         "values": 0
        },
        {
         "index": "funded_amnt",
         "values": 0
        },
        {
         "index": "term",
         "values": 0
        },
        {
         "index": "int_rate",
         "values": 0
        },
        {
         "index": "grade",
         "values": 1
        },
        {
         "index": "annual_inc",
         "values": 1
        },
        {
         "index": "issue_d",
         "values": 1
        },
        {
         "index": "dti",
         "values": 1197
        },
        {
         "index": "revol_bal",
         "values": 1
        },
        {
         "index": "total_pymnt",
         "values": 1
        },
        {
         "index": "loan_status",
         "values": 1
        }
       ],
       "schema": {
        "fields": [
         {
          "name": "index",
          "type": "string"
         },
         {
          "name": "values",
          "type": "integer"
         }
        ],
        "pandas_version": "0.20.0",
        "primaryKey": [
         "index"
        ]
       }
      },
      "text/plain": [
       "loan_amnt      0   \n",
       "funded_amnt    0   \n",
       "term           0   \n",
       "int_rate       0   \n",
       "grade          1   \n",
       "annual_inc     1   \n",
       "issue_d        1   \n",
       "dti            1197\n",
       "revol_bal      1   \n",
       "total_pymnt    1   \n",
       "loan_status    1   \n",
       "dtype: int64"
      ]
     },
     "execution_count": 919,
     "metadata": {
      "bento_obj_id": "140447350789008"
     },
     "output_type": "execute_result"
    }
   ],
   "source": [
    "loan_data.isna().sum()"
   ]
  },
  {
   "cell_type": "markdown",
   "metadata": {},
   "source": [
    "Because DTI rate nulls are only 1196/957840, we will remove these nulls. There is no clear replacement given DTI is a rate from 0->100%. "
   ]
  },
  {
   "cell_type": "code",
   "execution_count": 920,
   "metadata": {
    "collapsed": true
   },
   "outputs": [],
   "source": [
    "loan_data = loan_data[loan_data.dti.isna()==False]"
   ]
  },
  {
   "cell_type": "code",
   "execution_count": 921,
   "metadata": {},
   "outputs": [
    {
     "data": {
      "application/vnd.dataresource+json": {
       "data": [
        {
         "index": "loan_amnt",
         "values": 0
        },
        {
         "index": "funded_amnt",
         "values": 0
        },
        {
         "index": "term",
         "values": 0
        },
        {
         "index": "int_rate",
         "values": 0
        },
        {
         "index": "grade",
         "values": 0
        },
        {
         "index": "annual_inc",
         "values": 0
        },
        {
         "index": "issue_d",
         "values": 0
        },
        {
         "index": "dti",
         "values": 0
        },
        {
         "index": "revol_bal",
         "values": 0
        },
        {
         "index": "total_pymnt",
         "values": 0
        },
        {
         "index": "loan_status",
         "values": 0
        }
       ],
       "schema": {
        "fields": [
         {
          "name": "index",
          "type": "string"
         },
         {
          "name": "values",
          "type": "integer"
         }
        ],
        "pandas_version": "0.20.0",
        "primaryKey": [
         "index"
        ]
       }
      },
      "text/plain": [
       "loan_amnt      0\n",
       "funded_amnt    0\n",
       "term           0\n",
       "int_rate       0\n",
       "grade          0\n",
       "annual_inc     0\n",
       "issue_d        0\n",
       "dti            0\n",
       "revol_bal      0\n",
       "total_pymnt    0\n",
       "loan_status    0\n",
       "dtype: int64"
      ]
     },
     "execution_count": 921,
     "metadata": {
      "bento_obj_id": "140445252057296"
     },
     "output_type": "execute_result"
    }
   ],
   "source": [
    "loan_data.isna().sum()"
   ]
  },
  {
   "cell_type": "markdown",
   "metadata": {},
   "source": [
    "### Features"
   ]
  },
  {
   "cell_type": "markdown",
   "metadata": {},
   "source": [
    "There are three different feature data types, but they can be extracted down to categorical (object) and continuous (int and float)."
   ]
  },
  {
   "cell_type": "code",
   "execution_count": 1255,
   "metadata": {},
   "outputs": [
    {
     "data": {
      "application/vnd.dataresource+json": {
       "data": [
        {
         "index": "loan_amnt",
         "values": {
          "alignment": 8,
          "byteorder": "=",
          "descr": [
           [
            "",
            "<i8"
           ]
          ],
          "flags": 0,
          "isalignedstruct": false,
          "isnative": true,
          "kind": "i",
          "name": "int64",
          "ndim": 0,
          "num": 7,
          "str": "<i8"
         }
        },
        {
         "index": "funded_amnt",
         "values": {
          "alignment": 8,
          "byteorder": "=",
          "descr": [
           [
            "",
            "<i8"
           ]
          ],
          "flags": 0,
          "isalignedstruct": false,
          "isnative": true,
          "kind": "i",
          "name": "int64",
          "ndim": 0,
          "num": 7,
          "str": "<i8"
         }
        },
        {
         "index": "term",
         "values": {
          "alignment": 8,
          "byteorder": "|",
          "descr": [
           [
            "",
            "|O"
           ]
          ],
          "flags": 63,
          "isalignedstruct": false,
          "isnative": true,
          "kind": "O",
          "name": "object",
          "ndim": 0,
          "num": 17,
          "str": "|O"
         }
        },
        {
         "index": "int_rate",
         "values": {
          "alignment": 8,
          "byteorder": "=",
          "descr": [
           [
            "",
            "<f8"
           ]
          ],
          "flags": 0,
          "isalignedstruct": false,
          "isnative": true,
          "kind": "f",
          "name": "float64",
          "ndim": 0,
          "num": 12,
          "str": "<f8"
         }
        },
        {
         "index": "grade",
         "values": {
          "alignment": 8,
          "byteorder": "|",
          "descr": [
           [
            "",
            "|O"
           ]
          ],
          "flags": 63,
          "isalignedstruct": false,
          "isnative": true,
          "kind": "O",
          "name": "object",
          "ndim": 0,
          "num": 17,
          "str": "|O"
         }
        },
        {
         "index": "annual_inc",
         "values": {
          "alignment": 8,
          "byteorder": "=",
          "descr": [
           [
            "",
            "<f8"
           ]
          ],
          "flags": 0,
          "isalignedstruct": false,
          "isnative": true,
          "kind": "f",
          "name": "float64",
          "ndim": 0,
          "num": 12,
          "str": "<f8"
         }
        },
        {
         "index": "issue_d",
         "values": {
          "alignment": 8,
          "byteorder": "|",
          "descr": [
           [
            "",
            "|O"
           ]
          ],
          "flags": 63,
          "isalignedstruct": false,
          "isnative": true,
          "kind": "O",
          "name": "object",
          "ndim": 0,
          "num": 17,
          "str": "|O"
         }
        },
        {
         "index": "dti",
         "values": {
          "alignment": 8,
          "byteorder": "=",
          "descr": [
           [
            "",
            "<f8"
           ]
          ],
          "flags": 0,
          "isalignedstruct": false,
          "isnative": true,
          "kind": "f",
          "name": "float64",
          "ndim": 0,
          "num": 12,
          "str": "<f8"
         }
        },
        {
         "index": "revol_bal",
         "values": {
          "alignment": 8,
          "byteorder": "=",
          "descr": [
           [
            "",
            "<f8"
           ]
          ],
          "flags": 0,
          "isalignedstruct": false,
          "isnative": true,
          "kind": "f",
          "name": "float64",
          "ndim": 0,
          "num": 12,
          "str": "<f8"
         }
        },
        {
         "index": "total_pymnt",
         "values": {
          "alignment": 8,
          "byteorder": "=",
          "descr": [
           [
            "",
            "<f8"
           ]
          ],
          "flags": 0,
          "isalignedstruct": false,
          "isnative": true,
          "kind": "f",
          "name": "float64",
          "ndim": 0,
          "num": 12,
          "str": "<f8"
         }
        },
        {
         "index": "loan_status",
         "values": {
          "alignment": 8,
          "byteorder": "|",
          "descr": [
           [
            "",
            "|O"
           ]
          ],
          "flags": 63,
          "isalignedstruct": false,
          "isnative": true,
          "kind": "O",
          "name": "object",
          "ndim": 0,
          "num": 17,
          "str": "|O"
         }
        }
       ],
       "schema": {
        "fields": [
         {
          "name": "index",
          "type": "string"
         },
         {
          "name": "values",
          "type": "string"
         }
        ],
        "pandas_version": "0.20.0",
        "primaryKey": [
         "index"
        ]
       }
      },
      "text/plain": [
       "loan_amnt      int64  \n",
       "funded_amnt    int64  \n",
       "term           object \n",
       "int_rate       float64\n",
       "grade          object \n",
       "annual_inc     float64\n",
       "issue_d        object \n",
       "dti            float64\n",
       "revol_bal      float64\n",
       "total_pymnt    float64\n",
       "loan_status    object \n",
       "dtype: object"
      ]
     },
     "execution_count": 1255,
     "metadata": {
      "bento_obj_id": "140447258320784"
     },
     "output_type": "execute_result"
    }
   ],
   "source": [
    "loan_data.dtypes"
   ]
  },
  {
   "cell_type": "code",
   "execution_count": 923,
   "metadata": {},
   "outputs": [
    {
     "data": {
      "text/plain": [
       "{'int64': Index(['loan_amnt', 'funded_amnt'], dtype='object'),\n",
       " 'float64': Index(['int_rate', 'annual_inc', 'dti', 'revol_bal', 'total_pymnt'], dtype='object'),\n",
       " 'object': Index(['term', 'grade', 'issue_d', 'loan_status'], dtype='object')}"
      ]
     },
     "execution_count": 923,
     "metadata": {
      "bento_obj_id": "140447619594512"
     },
     "output_type": "execute_result"
    }
   ],
   "source": [
    "feature_groups = loan_data.columns.to_series().groupby(loan_data.dtypes).groups\n",
    "{k.name: v for k, v in feature_groups.items()}"
   ]
  },
  {
   "cell_type": "markdown",
   "metadata": {},
   "source": [
    "We iterate through the different feature types to get feature distributions, either across the range of the feature (continuous) or grouped by category (categorical). "
   ]
  },
  {
   "cell_type": "code",
   "execution_count": 1386,
   "metadata": {},
   "outputs": [
    {
     "data": {
      "image/png": "[encoded data removed]",
      "text/plain": [
       "<Figure size 2160x720 with 2 Axes>"
      ]
     },
     "metadata": {
      "bento_obj_id": "140447618121296"
     },
     "output_type": "display_data"
    },
    {
     "data": {
      "image/png": "[encoded data removed]",
      "text/plain": [
       "<Figure size 2160x720 with 5 Axes>"
      ]
     },
     "metadata": {
      "bento_obj_id": "140447216973136"
     },
     "output_type": "display_data"
    },
    {
     "data": {
      "image/png": "[encoded data removed]",
      "text/plain": [
       "<Figure size 2160x720 with 4 Axes>"
      ]
     },
     "metadata": {
      "bento_obj_id": "140447294173328"
     },
     "output_type": "display_data"
    }
   ],
   "source": [
    "for item in feature_groups:\n",
    "    fig, ax = plt.subplots(1, len(feature_groups[item]), figsize=(30, 10))\n",
    "    for feature, subplot in zip(feature_groups[item], ax.flatten()): \n",
    "        if item=='int64' or item=='float64':\n",
    "            sns.distplot(loan_data[feature_groups[item]][feature], ax=subplot, color=\"dodgerblue\")\n",
    "        elif item=='object':\n",
    "            sns.countplot(loan_data[feature_groups[item]][feature], ax=subplot, palette=\"Blues_r\")\n",
    "            for label in subplot.get_xticklabels():\n",
    "                label.set_rotation(90)\n",
    "fig.show()"
   ]
  },
  {
   "cell_type": "markdown",
   "metadata": {},
   "source": [
    "• **Loan Amount and Funded Amount:** Summary statistics and distributions are nearly identical and cleanly structured. Outliers are not apparent, although there are spikes at each 1000 increment. Although this will not require processing for this analysis, it could be worthwhile to explore smoothing of spikes for stronger predictability."
   ]
  },
  {
   "cell_type": "markdown",
   "metadata": {},
   "source": [
    "• **Interest Rate:** These results are reasonable for interest rates, with a maximum ~30%. Outliers are also not apparent.  "
   ]
  },
  {
   "cell_type": "markdown",
   "metadata": {},
   "source": [
    "• **DTI:** Calculated as a ratio of the borrower’s total monthly debt/borrower’s monthly income; a low DTI would indicate a borrower has a low amount of debt compared to their income while high DTI indicates the borrower is paying most of or more than their monthly income. Outliers exist in the DTI ratio, with a minimum of -1 and maximum of 999. These outliers do not make sense in the context of a debt to income ratio, and given the p1 and p99 are reasonable, we winsorize DTI."
   ]
  },
  {
   "cell_type": "markdown",
   "metadata": {},
   "source": [
    "• **Revolving Balance:** The credit revolving balance also does not have outliers, although its distribution has a wide tail. It may require a log transformation."
   ]
  },
  {
   "cell_type": "markdown",
   "metadata": {},
   "source": [
    "• **Total Payment:** This column is without outliers or data processing issues.  "
   ]
  },
  {
   "cell_type": "code",
   "execution_count": null,
   "metadata": {
    "collapsed": true
   },
   "outputs": [],
   "source": [
    "for item in feature_groups:\n",
    "    fig, ax = plt.subplots(1, len(feature_groups[item]), figsize=(30, 10))\n",
    "    for feature, subplot in zip(feature_groups[item], ax.flatten()): \n",
    "        if item=='int64' or item=='float64':\n",
    "            sns.distplot(loan_data[feature_groups[item]][feature], ax=subplot, color=\"dodgerblue\")\n",
    "        elif item=='object':\n",
    "            sns.countplot(loan_data[feature_groups[item]][feature], ax=subplot, palette=\"Blues_r\")\n",
    "            for label in subplot.get_xticklabels():\n",
    "                label.set_rotation(90)\n",
    "fig.show()"
   ]
  },
  {
   "cell_type": "markdown",
   "metadata": {},
   "source": [
    "### Clean DTI"
   ]
  },
  {
   "cell_type": "code",
   "execution_count": 927,
   "metadata": {
    "collapsed": true
   },
   "outputs": [],
   "source": [
    "loan_data = winsorize_data(loan_data, 'dti', 0.01, 0.99)"
   ]
  },
  {
   "cell_type": "markdown",
   "metadata": {},
   "source": [
    "Winsorization is successful."
   ]
  },
  {
   "cell_type": "code",
   "execution_count": 929,
   "metadata": {},
   "outputs": [
    {
     "data": {
      "application/vnd.dataresource+json": {
       "data": [
        {
         "dti": 956643,
         "index": "count"
        },
        {
         "dti": 18.8460610175,
         "index": "mean"
        },
        {
         "dti": 9.4586456751,
         "index": "std"
        },
        {
         "dti": 1.55,
         "index": "min"
        },
        {
         "dti": 1.55,
         "index": "0.5%"
        },
        {
         "dti": 1.55,
         "index": "1%"
        },
        {
         "dti": 2.11,
         "index": "1.5%"
        },
        {
         "dti": 17.99,
         "index": "50%"
        },
        {
         "dti": 43.61,
         "index": "98.5%"
        },
        {
         "dti": 49.22,
         "index": "99%"
        },
        {
         "dti": 49.22,
         "index": "99.5%"
        },
        {
         "dti": 49.22,
         "index": "max"
        }
       ],
       "schema": {
        "fields": [
         {
          "name": "index",
          "type": "string"
         },
         {
          "name": "dti",
          "type": "number"
         }
        ],
        "pandas_version": "0.20.0",
        "primaryKey": [
         "index"
        ]
       }
      },
      "text/plain": [
       "count    956643.000000\n",
       "mean     18.846061    \n",
       "std      9.458646     \n",
       "min      1.550000     \n",
       "0.5%     1.550000     \n",
       "1%       1.550000     \n",
       "1.5%     2.110000     \n",
       "50%      17.990000    \n",
       "98.5%    43.610000    \n",
       "99%      49.220000    \n",
       "99.5%    49.220000    \n",
       "max      49.220000    \n",
       "Name: dti, dtype: float64"
      ]
     },
     "execution_count": 929,
     "metadata": {
      "bento_obj_id": "140447208594640"
     },
     "output_type": "execute_result"
    }
   ],
   "source": [
    "loan_data['dti'].describe(percentiles=([0.005, 0.01, 0.015, .985, .99, .995]))"
   ]
  },
  {
   "cell_type": "markdown",
   "metadata": {},
   "source": [
    "### Feature Correlations"
   ]
  },
  {
   "cell_type": "markdown",
   "metadata": {},
   "source": [
    "• Given there is a mixture of categorical and continuous data, it is best to use pearson correlation to estimate feature correlation. "
   ]
  },
  {
   "cell_type": "markdown",
   "metadata": {},
   "source": [
    "• As previously noted, loan amount and funded amount are nearly identical with 99% correlation.  Funded amount will be the column used for analysis given it is the current amount of the loan. "
   ]
  },
  {
   "cell_type": "markdown",
   "metadata": {},
   "source": [
    "• Loan amount and funded amount are moderately correlated with total payment, indicating they may be the most predictive of total payment."
   ]
  },
  {
   "cell_type": "markdown",
   "metadata": {},
   "source": [
    "• DTI appears to be the least correlated feature, indicating it may be an important feature in adding new information about borrowers' ability to repay the loan. "
   ]
  },
  {
   "cell_type": "code",
   "execution_count": 1399,
   "metadata": {},
   "outputs": [
    {
     "data": {
      "text/plain": [
       "<matplotlib.axes._subplots.AxesSubplot at 0x7fbc74f7d650>"
      ]
     },
     "execution_count": 1399,
     "metadata": {
      "bento_obj_id": "140447392978512"
     },
     "output_type": "execute_result"
    },
    {
     "data": {
      "image/png": "[encoded data removed]",
      "text/plain": [
       "<Figure size 1440x720 with 2 Axes>"
      ]
     },
     "metadata": {
      "bento_obj_id": "140447392979344"
     },
     "output_type": "display_data"
    }
   ],
   "source": [
    "plt.figure(figsize=(20,10))\n",
    "plt.title('Pearson Correlation of Lending Club Features')\n",
    "loan_data_correlations= loan_data.corr()\n",
    "sns.heatmap(loan_data_correlations, cmap=\"Blues_r\") "
   ]
  },
  {
   "cell_type": "code",
   "execution_count": 1402,
   "metadata": {},
   "outputs": [
    {
     "data": {
      "application/vnd.dataresource+json": {
       "data": [
        {
         "annual_inc": 0.2645433171,
         "dti": 0.0442704145,
         "funded_amnt": 0.9999985066,
         "index": "loan_amnt",
         "int_rate": 0.0615644137,
         "loan_amnt": 1,
         "revol_bal": 0.3087954349,
         "total_pymnt": 0.5273816251
        },
        {
         "annual_inc": 0.2645441794,
         "dti": 0.0442689687,
         "funded_amnt": 1,
         "index": "funded_amnt",
         "int_rate": 0.0615658587,
         "loan_amnt": 0.9999985066,
         "revol_bal": 0.3087954482,
         "total_pymnt": 0.5273814134
        },
        {
         "annual_inc": -0.0730777504,
         "dti": 0.2063819485,
         "funded_amnt": 0.0615658587,
         "index": "int_rate",
         "int_rate": 1,
         "loan_amnt": 0.0615644137,
         "revol_bal": -0.0329738443,
         "total_pymnt": 0.0531635753
        },
        {
         "annual_inc": 1,
         "dti": -0.1566379108,
         "funded_amnt": 0.2645441794,
         "index": "annual_inc",
         "int_rate": -0.0730777504,
         "loan_amnt": 0.2645433171,
         "revol_bal": 0.2717142655,
         "total_pymnt": 0.1651379189
        },
        {
         "annual_inc": -0.1566379108,
         "dti": 1,
         "funded_amnt": 0.0442689687,
         "index": "dti",
         "int_rate": 0.2063819485,
         "loan_amnt": 0.0442704145,
         "revol_bal": 0.1616746267,
         "total_pymnt": 0.0008677146
        },
        {
         "annual_inc": 0.2717142655,
         "dti": 0.1616746267,
         "funded_amnt": 0.3087954482,
         "index": "revol_bal",
         "int_rate": -0.0329738443,
         "loan_amnt": 0.3087954349,
         "revol_bal": 1,
         "total_pymnt": 0.1982070713
        },
        {
         "annual_inc": 0.1651379189,
         "dti": 0.0008677146,
         "funded_amnt": 0.5273814134,
         "index": "total_pymnt",
         "int_rate": 0.0531635753,
         "loan_amnt": 0.5273816251,
         "revol_bal": 0.1982070713,
         "total_pymnt": 1
        }
       ],
       "schema": {
        "fields": [
         {
          "name": "index",
          "type": "string"
         },
         {
          "name": "loan_amnt",
          "type": "number"
         },
         {
          "name": "funded_amnt",
          "type": "number"
         },
         {
          "name": "int_rate",
          "type": "number"
         },
         {
          "name": "annual_inc",
          "type": "number"
         },
         {
          "name": "dti",
          "type": "number"
         },
         {
          "name": "revol_bal",
          "type": "number"
         },
         {
          "name": "total_pymnt",
          "type": "number"
         }
        ],
        "pandas_version": "0.20.0",
        "primaryKey": [
         "index"
        ]
       }
      },
      "text/html": [
       "<div>\n",
       "<style scoped>\n",
       "    .dataframe tbody tr th:only-of-type {\n",
       "        vertical-align: middle;\n",
       "    }\n",
       "\n",
       "    .dataframe tbody tr th {\n",
       "        vertical-align: top;\n",
       "    }\n",
       "\n",
       "    .dataframe thead th {\n",
       "        text-align: right;\n",
       "    }\n",
       "</style>\n",
       "<table border=\"1\" class=\"dataframe\">\n",
       "  <thead>\n",
       "    <tr style=\"text-align: right;\">\n",
       "      <th></th>\n",
       "      <th>loan_amnt</th>\n",
       "      <th>funded_amnt</th>\n",
       "      <th>int_rate</th>\n",
       "      <th>annual_inc</th>\n",
       "      <th>dti</th>\n",
       "      <th>revol_bal</th>\n",
       "      <th>total_pymnt</th>\n",
       "    </tr>\n",
       "  </thead>\n",
       "  <tbody>\n",
       "    <tr>\n",
       "      <th>loan_amnt</th>\n",
       "      <td>1.000000</td>\n",
       "      <td>0.999999</td>\n",
       "      <td>0.061564</td>\n",
       "      <td>0.264543</td>\n",
       "      <td>0.044270</td>\n",
       "      <td>0.308795</td>\n",
       "      <td>0.527382</td>\n",
       "    </tr>\n",
       "    <tr>\n",
       "      <th>funded_amnt</th>\n",
       "      <td>0.999999</td>\n",
       "      <td>1.000000</td>\n",
       "      <td>0.061566</td>\n",
       "      <td>0.264544</td>\n",
       "      <td>0.044269</td>\n",
       "      <td>0.308795</td>\n",
       "      <td>0.527381</td>\n",
       "    </tr>\n",
       "    <tr>\n",
       "      <th>int_rate</th>\n",
       "      <td>0.061564</td>\n",
       "      <td>0.061566</td>\n",
       "      <td>1.000000</td>\n",
       "      <td>-0.073078</td>\n",
       "      <td>0.206382</td>\n",
       "      <td>-0.032974</td>\n",
       "      <td>0.053164</td>\n",
       "    </tr>\n",
       "    <tr>\n",
       "      <th>annual_inc</th>\n",
       "      <td>0.264543</td>\n",
       "      <td>0.264544</td>\n",
       "      <td>-0.073078</td>\n",
       "      <td>1.000000</td>\n",
       "      <td>-0.156638</td>\n",
       "      <td>0.271714</td>\n",
       "      <td>0.165138</td>\n",
       "    </tr>\n",
       "    <tr>\n",
       "      <th>dti</th>\n",
       "      <td>0.044270</td>\n",
       "      <td>0.044269</td>\n",
       "      <td>0.206382</td>\n",
       "      <td>-0.156638</td>\n",
       "      <td>1.000000</td>\n",
       "      <td>0.161675</td>\n",
       "      <td>0.000868</td>\n",
       "    </tr>\n",
       "    <tr>\n",
       "      <th>revol_bal</th>\n",
       "      <td>0.308795</td>\n",
       "      <td>0.308795</td>\n",
       "      <td>-0.032974</td>\n",
       "      <td>0.271714</td>\n",
       "      <td>0.161675</td>\n",
       "      <td>1.000000</td>\n",
       "      <td>0.198207</td>\n",
       "    </tr>\n",
       "    <tr>\n",
       "      <th>total_pymnt</th>\n",
       "      <td>0.527382</td>\n",
       "      <td>0.527381</td>\n",
       "      <td>0.053164</td>\n",
       "      <td>0.165138</td>\n",
       "      <td>0.000868</td>\n",
       "      <td>0.198207</td>\n",
       "      <td>1.000000</td>\n",
       "    </tr>\n",
       "  </tbody>\n",
       "</table>\n",
       "</div>"
      ],
      "text/plain": [
       "             loan_amnt  funded_amnt  int_rate  annual_inc       dti  \\\n",
       "loan_amnt    1.000000   0.999999     0.061564  0.264543    0.044270   \n",
       "funded_amnt  0.999999   1.000000     0.061566  0.264544    0.044269   \n",
       "int_rate     0.061564   0.061566     1.000000 -0.073078    0.206382   \n",
       "annual_inc   0.264543   0.264544    -0.073078  1.000000   -0.156638   \n",
       "dti          0.044270   0.044269     0.206382 -0.156638    1.000000   \n",
       "revol_bal    0.308795   0.308795    -0.032974  0.271714    0.161675   \n",
       "total_pymnt  0.527382   0.527381     0.053164  0.165138    0.000868   \n",
       "\n",
       "             revol_bal  total_pymnt  \n",
       "loan_amnt    0.308795   0.527382     \n",
       "funded_amnt  0.308795   0.527381     \n",
       "int_rate    -0.032974   0.053164     \n",
       "annual_inc   0.271714   0.165138     \n",
       "dti          0.161675   0.000868     \n",
       "revol_bal    1.000000   0.198207     \n",
       "total_pymnt  0.198207   1.000000     "
      ]
     },
     "execution_count": 1402,
     "metadata": {
      "bento_obj_id": "140447217039568"
     },
     "output_type": "execute_result"
    }
   ],
   "source": [
    "loan_data_correlations"
   ]
  },
  {
   "cell_type": "code",
   "execution_count": 1400,
   "metadata": {},
   "outputs": [
    {
     "data": {
      "text/plain": [
       "<matplotlib.axes._subplots.AxesSubplot at 0x7fbbf729ab90>"
      ]
     },
     "execution_count": 1400,
     "metadata": {
      "bento_obj_id": "140445282315152"
     },
     "output_type": "execute_result"
    },
    {
     "data": {
      "image/png": "[encoded data removed]",
      "text/plain": [
       "<Figure size 1440x720 with 2 Axes>"
      ]
     },
     "metadata": {
      "bento_obj_id": "140445282315856"
     },
     "output_type": "display_data"
    }
   ],
   "source": [
    "plt.figure(figsize=(20,10))\n",
    "plt.title('Spearman Correlation of Lending Club Features')\n",
    "loan_data_correlations_spearman= loan_data.corr(method='spearman')\n",
    "sns.heatmap(loan_data_correlations_spearman, cmap=\"Blues_r\")"
   ]
  },
  {
   "cell_type": "markdown",
   "metadata": {},
   "source": [
    "### Next Steps"
   ]
  },
  {
   "cell_type": "markdown",
   "metadata": {},
   "source": [
    "Feature Distributions"
   ]
  },
  {
   "cell_type": "markdown",
   "metadata": {},
   "source": [
    "• Evaluate various transformations of feature values and further processing of feature distributions. "
   ]
  },
  {
   "cell_type": "markdown",
   "metadata": {},
   "source": [
    "Feature Engineering"
   ]
  },
  {
   "cell_type": "markdown",
   "metadata": {},
   "source": [
    "• Analyze and extract further insights within the dataset to create more valuable features (ex: sparse features)."
   ]
  },
  {
   "cell_type": "markdown",
   "metadata": {},
   "source": [
    "• Improve feature representations to improve their usability within the model (using mis-calibration, truncation, bucketizing)."
   ]
  },
  {
   "cell_type": "markdown",
   "metadata": {},
   "source": [
    "Feature Statistics"
   ]
  },
  {
   "cell_type": "markdown",
   "metadata": {},
   "source": [
    "• Evaluate further statistics including positive label rate broken down across subsets of borrowers (and subsets of their characteristics), calibration, etc."
   ]
  },
  {
   "cell_type": "markdown",
   "metadata": {},
   "source": [
    "## Part 2: Business Analysis"
   ]
  },
  {
   "cell_type": "markdown",
   "metadata": {},
   "source": [
    "Assume all loans are 36 month"
   ]
  },
  {
   "cell_type": "code",
   "execution_count": 1571,
   "metadata": {
    "collapsed": true
   },
   "outputs": [],
   "source": [
    "loan_data_36_months = loan_data"
   ]
  },
  {
   "cell_type": "markdown",
   "metadata": {},
   "source": [
    "Filter data to loans with <36 months data available (defined as issue_d predating December 1, 2016)"
   ]
  },
  {
   "cell_type": "code",
   "execution_count": 1572,
   "metadata": {},
   "outputs": [
    {
     "data": {
      "text/plain": [
       "array(['Dec-2018', 'Nov-2018', 'Oct-2018', 'Sep-2018', 'Aug-2018',\n",
       "       'Jul-2018', 'Jun-2018', 'May-2018', 'Apr-2018', 'Mar-2018',\n",
       "       'Feb-2018', 'Jan-2018', 'Sep-2016', 'Aug-2016', 'Jul-2016',\n",
       "       'Jun-2016', 'May-2016', 'Apr-2016', 'Mar-2016', 'Feb-2016',\n",
       "       'Jan-2016', 'Dec-2016', 'Nov-2016', 'Oct-2016', 'Dec-2015'],\n",
       "      dtype=object)"
      ]
     },
     "execution_count": 1572,
     "metadata": {
      "bento_obj_id": "140447392800640"
     },
     "output_type": "execute_result"
    }
   ],
   "source": [
    "loan_data_36_months.issue_d.unique()"
   ]
  },
  {
   "cell_type": "code",
   "execution_count": 1573,
   "metadata": {
    "collapsed": true
   },
   "outputs": [],
   "source": [
    "dates_to_remove = ['Dec-2018', 'Nov-2018', 'Oct-2018', 'Sep-2018', 'Aug-2018',\n",
    "       'Jul-2018', 'Jun-2018', 'May-2018', 'Apr-2018', 'Mar-2018',\n",
    "       'Feb-2018', 'Jan-2018', 'Dec-2016']"
   ]
  },
  {
   "cell_type": "code",
   "execution_count": 1574,
   "metadata": {
    "collapsed": true
   },
   "outputs": [],
   "source": [
    "for date in dates_to_remove: \n",
    "    loan_data_36_months = loan_data_36_months[loan_data_36_months.issue_d!=date]"
   ]
  },
  {
   "cell_type": "markdown",
   "metadata": {},
   "source": [
    "Filter was successful."
   ]
  },
  {
   "cell_type": "code",
   "execution_count": 1578,
   "metadata": {},
   "outputs": [
    {
     "data": {
      "text/plain": [
       "array(['Sep-2016', 'Aug-2016', 'Jul-2016', 'Jun-2016', 'May-2016',\n",
       "       'Apr-2016', 'Mar-2016', 'Feb-2016', 'Jan-2016', 'Nov-2016',\n",
       "       'Oct-2016', 'Dec-2015'], dtype=object)"
      ]
     },
     "execution_count": 1578,
     "metadata": {
      "bento_obj_id": "140444094868416"
     },
     "output_type": "execute_result"
    }
   ],
   "source": [
    "loan_data_36_months.issue_d.unique()"
   ]
  },
  {
   "cell_type": "code",
   "execution_count": 1576,
   "metadata": {},
   "outputs": [
    {
     "name": "stdout",
     "output_type": "stream",
     "text": [
      "The percentage of loans which have been fully paid are:  50.13 %\n"
     ]
    }
   ],
   "source": [
    "print(\"The percentage of loans which have been fully paid are: \", \n",
    "      round((loan_data_36_months[\n",
    "          loan_data_36_months['loan_status']=='Fully Paid'\n",
    "      ]['loan_status'].count()/\n",
    "             loan_data_36_months['loan_status'].count())*100, 2), \n",
    "     \"%\")"
   ]
  },
  {
   "cell_type": "markdown",
   "metadata": {},
   "source": [
    "Define a defaulted loans label as loans which have been fully paid."
   ]
  },
  {
   "cell_type": "code",
   "execution_count": 1579,
   "metadata": {
    "collapsed": true
   },
   "outputs": [],
   "source": [
    "loan_data_36_months['default_label'] = np.where(loan_data_36_months['loan_status']=='Fully Paid', 0, 1)"
   ]
  },
  {
   "cell_type": "markdown",
   "metadata": {},
   "source": [
    "Extract years from string column in order to group by years."
   ]
  },
  {
   "cell_type": "code",
   "execution_count": 1580,
   "metadata": {},
   "outputs": [
    {
     "data": {
      "application/vnd.dataresource+json": {
       "data": [
        {
         "annual_inc": 95000,
         "default_label": 1,
         "dti": 10.3,
         "funded_amnt": 8000,
         "grade": "C",
         "index": 495242,
         "int_rate": 12.79,
         "issue_d": "Sep-2016",
         "loan_amnt": 8000,
         "loan_status": "Current",
         "revol_bal": 11343,
         "term": " 36 months",
         "total_pymnt": 7521.68,
         "year": 2016
        },
        {
         "annual_inc": 66000,
         "default_label": 1,
         "dti": 12.62,
         "funded_amnt": 20000,
         "grade": "D",
         "index": 495243,
         "int_rate": 17.99,
         "issue_d": "Sep-2016",
         "loan_amnt": 20000,
         "loan_status": "Charged Off",
         "revol_bal": 3565,
         "term": " 60 months",
         "total_pymnt": 7366.25,
         "year": 2016
        },
        {
         "annual_inc": 137500,
         "default_label": 0,
         "dti": 13.42,
         "funded_amnt": 10000,
         "grade": "A",
         "index": 495244,
         "int_rate": 8.59,
         "issue_d": "Sep-2016",
         "loan_amnt": 10000,
         "loan_status": "Fully Paid",
         "revol_bal": 9031,
         "term": " 36 months",
         "total_pymnt": 10962.4790760013,
         "year": 2016
        },
        {
         "annual_inc": 65000,
         "default_label": 0,
         "dti": 11.71,
         "funded_amnt": 32200,
         "grade": "D",
         "index": 495245,
         "int_rate": 21.49,
         "issue_d": "Sep-2016",
         "loan_amnt": 32200,
         "loan_status": "Fully Paid",
         "revol_bal": 11987,
         "term": " 60 months",
         "total_pymnt": 35770.8127464985,
         "year": 2016
        },
        {
         "annual_inc": 35000,
         "default_label": 0,
         "dti": 6.73,
         "funded_amnt": 2600,
         "grade": "B",
         "index": 495246,
         "int_rate": 8.99,
         "issue_d": "Sep-2016",
         "loan_amnt": 2600,
         "loan_status": "Fully Paid",
         "revol_bal": 720,
         "term": " 36 months",
         "total_pymnt": 2662.5902384687,
         "year": 2016
        }
       ],
       "schema": {
        "fields": [
         {
          "name": "index",
          "type": "integer"
         },
         {
          "name": "loan_amnt",
          "type": "integer"
         },
         {
          "name": "funded_amnt",
          "type": "integer"
         },
         {
          "name": "term",
          "type": "string"
         },
         {
          "name": "int_rate",
          "type": "number"
         },
         {
          "name": "grade",
          "type": "string"
         },
         {
          "name": "annual_inc",
          "type": "number"
         },
         {
          "name": "issue_d",
          "type": "string"
         },
         {
          "name": "dti",
          "type": "number"
         },
         {
          "name": "revol_bal",
          "type": "number"
         },
         {
          "name": "total_pymnt",
          "type": "number"
         },
         {
          "name": "loan_status",
          "type": "string"
         },
         {
          "name": "default_label",
          "type": "integer"
         },
         {
          "name": "year",
          "type": "integer"
         }
        ],
        "pandas_version": "0.20.0",
        "primaryKey": [
         "index"
        ]
       }
      },
      "text/html": [
       "<div>\n",
       "<style scoped>\n",
       "    .dataframe tbody tr th:only-of-type {\n",
       "        vertical-align: middle;\n",
       "    }\n",
       "\n",
       "    .dataframe tbody tr th {\n",
       "        vertical-align: top;\n",
       "    }\n",
       "\n",
       "    .dataframe thead th {\n",
       "        text-align: right;\n",
       "    }\n",
       "</style>\n",
       "<table border=\"1\" class=\"dataframe\">\n",
       "  <thead>\n",
       "    <tr style=\"text-align: right;\">\n",
       "      <th></th>\n",
       "      <th>loan_amnt</th>\n",
       "      <th>funded_amnt</th>\n",
       "      <th>term</th>\n",
       "      <th>int_rate</th>\n",
       "      <th>grade</th>\n",
       "      <th>annual_inc</th>\n",
       "      <th>issue_d</th>\n",
       "      <th>dti</th>\n",
       "      <th>revol_bal</th>\n",
       "      <th>total_pymnt</th>\n",
       "      <th>loan_status</th>\n",
       "      <th>default_label</th>\n",
       "      <th>year</th>\n",
       "    </tr>\n",
       "  </thead>\n",
       "  <tbody>\n",
       "    <tr>\n",
       "      <th>495242</th>\n",
       "      <td>8000</td>\n",
       "      <td>8000</td>\n",
       "      <td>36 months</td>\n",
       "      <td>12.79</td>\n",
       "      <td>C</td>\n",
       "      <td>95000.0</td>\n",
       "      <td>Sep-2016</td>\n",
       "      <td>10.30</td>\n",
       "      <td>11343.0</td>\n",
       "      <td>7521.680000</td>\n",
       "      <td>Current</td>\n",
       "      <td>1</td>\n",
       "      <td>2016</td>\n",
       "    </tr>\n",
       "    <tr>\n",
       "      <th>495243</th>\n",
       "      <td>20000</td>\n",
       "      <td>20000</td>\n",
       "      <td>60 months</td>\n",
       "      <td>17.99</td>\n",
       "      <td>D</td>\n",
       "      <td>66000.0</td>\n",
       "      <td>Sep-2016</td>\n",
       "      <td>12.62</td>\n",
       "      <td>3565.0</td>\n",
       "      <td>7366.250000</td>\n",
       "      <td>Charged Off</td>\n",
       "      <td>1</td>\n",
       "      <td>2016</td>\n",
       "    </tr>\n",
       "    <tr>\n",
       "      <th>495244</th>\n",
       "      <td>10000</td>\n",
       "      <td>10000</td>\n",
       "      <td>36 months</td>\n",
       "      <td>8.59</td>\n",
       "      <td>A</td>\n",
       "      <td>137500.0</td>\n",
       "      <td>Sep-2016</td>\n",
       "      <td>13.42</td>\n",
       "      <td>9031.0</td>\n",
       "      <td>10962.479076</td>\n",
       "      <td>Fully Paid</td>\n",
       "      <td>0</td>\n",
       "      <td>2016</td>\n",
       "    </tr>\n",
       "    <tr>\n",
       "      <th>495245</th>\n",
       "      <td>32200</td>\n",
       "      <td>32200</td>\n",
       "      <td>60 months</td>\n",
       "      <td>21.49</td>\n",
       "      <td>D</td>\n",
       "      <td>65000.0</td>\n",
       "      <td>Sep-2016</td>\n",
       "      <td>11.71</td>\n",
       "      <td>11987.0</td>\n",
       "      <td>35770.812746</td>\n",
       "      <td>Fully Paid</td>\n",
       "      <td>0</td>\n",
       "      <td>2016</td>\n",
       "    </tr>\n",
       "    <tr>\n",
       "      <th>495246</th>\n",
       "      <td>2600</td>\n",
       "      <td>2600</td>\n",
       "      <td>36 months</td>\n",
       "      <td>8.99</td>\n",
       "      <td>B</td>\n",
       "      <td>35000.0</td>\n",
       "      <td>Sep-2016</td>\n",
       "      <td>6.73</td>\n",
       "      <td>720.0</td>\n",
       "      <td>2662.590238</td>\n",
       "      <td>Fully Paid</td>\n",
       "      <td>0</td>\n",
       "      <td>2016</td>\n",
       "    </tr>\n",
       "  </tbody>\n",
       "</table>\n",
       "</div>"
      ],
      "text/plain": [
       "        loan_amnt  funded_amnt        term  int_rate grade  annual_inc  \\\n",
       "495242  8000       8000          36 months  12.79     C     95000.0      \n",
       "495243  20000      20000         60 months  17.99     D     66000.0      \n",
       "495244  10000      10000         36 months  8.59      A     137500.0     \n",
       "495245  32200      32200         60 months  21.49     D     65000.0      \n",
       "495246  2600       2600          36 months  8.99      B     35000.0      \n",
       "\n",
       "         issue_d    dti  revol_bal   total_pymnt  loan_status  default_label  \\\n",
       "495242  Sep-2016  10.30  11343.0    7521.680000   Current      1               \n",
       "495243  Sep-2016  12.62  3565.0     7366.250000   Charged Off  1               \n",
       "495244  Sep-2016  13.42  9031.0     10962.479076  Fully Paid   0               \n",
       "495245  Sep-2016  11.71  11987.0    35770.812746  Fully Paid   0               \n",
       "495246  Sep-2016  6.73   720.0      2662.590238   Fully Paid   0               \n",
       "\n",
       "        year  \n",
       "495242  2016  \n",
       "495243  2016  \n",
       "495244  2016  \n",
       "495245  2016  \n",
       "495246  2016  "
      ]
     },
     "execution_count": 1580,
     "metadata": {
      "bento_obj_id": "140447462934160"
     },
     "output_type": "execute_result"
    }
   ],
   "source": [
    "loan_data_36_months['year'] = 0\n",
    "loan_data_36_months = get_all_years(loan_data_36_months)\n",
    "loan_data_36_months.head()"
   ]
  },
  {
   "cell_type": "markdown",
   "metadata": {},
   "source": [
    "Calculate rate of default by year and loan grade. "
   ]
  },
  {
   "cell_type": "code",
   "execution_count": 1581,
   "metadata": {},
   "outputs": [
    {
     "name": "stdout",
     "output_type": "stream",
     "text": [
      "The linear relationship between loan grade and default is:  1.95 %\n",
      "The correlation between loan grade and default is:  13.96 %\n"
     ]
    }
   ],
   "source": [
    "grade_r_sq = calculate_r_sq(loan_data_36_months, \"grade\")\n",
    "print(\"The linear relationship between loan grade and default is: \", round(grade_r_sq*100, 2), \"%\")\n",
    "print(\"The correlation between loan grade and default is: \", round(math.sqrt(grade_r_sq)*100, 2), \"%\")"
   ]
  },
  {
   "cell_type": "code",
   "execution_count": 1582,
   "metadata": {},
   "outputs": [
    {
     "name": "stdout",
     "output_type": "stream",
     "text": [
      "The linear relationship between loan issue date and default is:  4.05 %\n",
      "The correlation between loan issue date and default is:  20.13 %\n"
     ]
    }
   ],
   "source": [
    "year_r_sq = calculate_r_sq(loan_data_36_months, \"issue_d\", 'default_label')\n",
    "print(\"The linear relationship between loan issue date and default is: \", round(year_r_sq*100, 2), \"%\")\n",
    "print(\"The correlation between loan issue date and default is: \", round(math.sqrt(year_r_sq)*100, 2), \"%\")"
   ]
  },
  {
   "cell_type": "markdown",
   "metadata": {},
   "source": [
    "• As visualized, the rate of defaults is highest in this filtered dataset for the 2016 Grade G cohort with 64% default rate. Because loan grade is an indicator of borrower risk and loan quality, this matches intuition. "
   ]
  },
  {
   "cell_type": "markdown",
   "metadata": {},
   "source": [
    "• The linear relationship indicates a minimally stronger relationship (through correlation), R-squared is essentially not related) between issue date and default than loan grade and default.  In the below visualization, it is clear the rate of default increases in a similar pattern by loan grade risk for both years, but appears significantly different in comparing years."
   ]
  },
  {
   "cell_type": "code",
   "execution_count": 1587,
   "metadata": {},
   "outputs": [
    {
     "data": {
      "application/vnd.dataresource+json": {
       "data": [
        {
         "default_label": 0.6806260575,
         "grade": "G",
         "index": 13,
         "year": 2016
        },
        {
         "default_label": 0.6605504587,
         "grade": "F",
         "index": 11,
         "year": 2016
        },
        {
         "default_label": 0.6578947368,
         "grade": "G",
         "index": 12,
         "year": 2015
        },
        {
         "default_label": 0.6179158283,
         "grade": "E",
         "index": 9,
         "year": 2016
        },
        {
         "default_label": 0.5901060071,
         "grade": "F",
         "index": 10,
         "year": 2015
        },
        {
         "default_label": 0.5773675522,
         "grade": "D",
         "index": 7,
         "year": 2016
        },
        {
         "default_label": 0.5732387228,
         "grade": "E",
         "index": 8,
         "year": 2015
        },
        {
         "default_label": 0.5384480776,
         "grade": "C",
         "index": 5,
         "year": 2016
        },
        {
         "default_label": 0.4799265645,
         "grade": "B",
         "index": 3,
         "year": 2016
        },
        {
         "default_label": 0.468406242,
         "grade": "D",
         "index": 6,
         "year": 2015
        },
        {
         "default_label": 0.4115543619,
         "grade": "A",
         "index": 1,
         "year": 2016
        },
        {
         "default_label": 0.3529196189,
         "grade": "C",
         "index": 4,
         "year": 2015
        },
        {
         "default_label": 0.2187755102,
         "grade": "B",
         "index": 2,
         "year": 2015
        },
        {
         "default_label": 0.0768598438,
         "grade": "A",
         "index": 0,
         "year": 2015
        }
       ],
       "schema": {
        "fields": [
         {
          "name": "index",
          "type": "integer"
         },
         {
          "name": "grade",
          "type": "string"
         },
         {
          "name": "year",
          "type": "integer"
         },
         {
          "name": "default_label",
          "type": "number"
         }
        ],
        "pandas_version": "0.20.0",
        "primaryKey": [
         "index"
        ]
       }
      },
      "text/html": [
       "<div>\n",
       "<style scoped>\n",
       "    .dataframe tbody tr th:only-of-type {\n",
       "        vertical-align: middle;\n",
       "    }\n",
       "\n",
       "    .dataframe tbody tr th {\n",
       "        vertical-align: top;\n",
       "    }\n",
       "\n",
       "    .dataframe thead th {\n",
       "        text-align: right;\n",
       "    }\n",
       "</style>\n",
       "<table border=\"1\" class=\"dataframe\">\n",
       "  <thead>\n",
       "    <tr style=\"text-align: right;\">\n",
       "      <th></th>\n",
       "      <th>grade</th>\n",
       "      <th>year</th>\n",
       "      <th>default_label</th>\n",
       "    </tr>\n",
       "  </thead>\n",
       "  <tbody>\n",
       "    <tr>\n",
       "      <th>13</th>\n",
       "      <td>G</td>\n",
       "      <td>2016</td>\n",
       "      <td>0.680626</td>\n",
       "    </tr>\n",
       "    <tr>\n",
       "      <th>11</th>\n",
       "      <td>F</td>\n",
       "      <td>2016</td>\n",
       "      <td>0.660550</td>\n",
       "    </tr>\n",
       "    <tr>\n",
       "      <th>12</th>\n",
       "      <td>G</td>\n",
       "      <td>2015</td>\n",
       "      <td>0.657895</td>\n",
       "    </tr>\n",
       "    <tr>\n",
       "      <th>9</th>\n",
       "      <td>E</td>\n",
       "      <td>2016</td>\n",
       "      <td>0.617916</td>\n",
       "    </tr>\n",
       "    <tr>\n",
       "      <th>10</th>\n",
       "      <td>F</td>\n",
       "      <td>2015</td>\n",
       "      <td>0.590106</td>\n",
       "    </tr>\n",
       "    <tr>\n",
       "      <th>7</th>\n",
       "      <td>D</td>\n",
       "      <td>2016</td>\n",
       "      <td>0.577368</td>\n",
       "    </tr>\n",
       "    <tr>\n",
       "      <th>8</th>\n",
       "      <td>E</td>\n",
       "      <td>2015</td>\n",
       "      <td>0.573239</td>\n",
       "    </tr>\n",
       "    <tr>\n",
       "      <th>5</th>\n",
       "      <td>C</td>\n",
       "      <td>2016</td>\n",
       "      <td>0.538448</td>\n",
       "    </tr>\n",
       "    <tr>\n",
       "      <th>3</th>\n",
       "      <td>B</td>\n",
       "      <td>2016</td>\n",
       "      <td>0.479927</td>\n",
       "    </tr>\n",
       "    <tr>\n",
       "      <th>6</th>\n",
       "      <td>D</td>\n",
       "      <td>2015</td>\n",
       "      <td>0.468406</td>\n",
       "    </tr>\n",
       "    <tr>\n",
       "      <th>1</th>\n",
       "      <td>A</td>\n",
       "      <td>2016</td>\n",
       "      <td>0.411554</td>\n",
       "    </tr>\n",
       "    <tr>\n",
       "      <th>4</th>\n",
       "      <td>C</td>\n",
       "      <td>2015</td>\n",
       "      <td>0.352920</td>\n",
       "    </tr>\n",
       "    <tr>\n",
       "      <th>2</th>\n",
       "      <td>B</td>\n",
       "      <td>2015</td>\n",
       "      <td>0.218776</td>\n",
       "    </tr>\n",
       "    <tr>\n",
       "      <th>0</th>\n",
       "      <td>A</td>\n",
       "      <td>2015</td>\n",
       "      <td>0.076860</td>\n",
       "    </tr>\n",
       "  </tbody>\n",
       "</table>\n",
       "</div>"
      ],
      "text/plain": [
       "   grade  year  default_label\n",
       "13  G     2016  0.680626     \n",
       "11  F     2016  0.660550     \n",
       "12  G     2015  0.657895     \n",
       "9   E     2016  0.617916     \n",
       "10  F     2015  0.590106     \n",
       "7   D     2016  0.577368     \n",
       "8   E     2015  0.573239     \n",
       "5   C     2016  0.538448     \n",
       "3   B     2016  0.479927     \n",
       "6   D     2015  0.468406     \n",
       "1   A     2016  0.411554     \n",
       "4   C     2015  0.352920     \n",
       "2   B     2015  0.218776     \n",
       "0   A     2015  0.076860     "
      ]
     },
     "execution_count": 1587,
     "metadata": {
      "bento_obj_id": "140447229814736"
     },
     "output_type": "execute_result"
    }
   ],
   "source": [
    "defaulted_ratio.sort_values('default_label', ascending=False)"
   ]
  },
  {
   "cell_type": "code",
   "execution_count": 1586,
   "metadata": {},
   "outputs": [
    {
     "name": "stdout",
     "output_type": "stream",
     "text": [
      "The cohort with the highest rate of defaults is: loan_grade G year 2016 with rate 68.06 %\n"
     ]
    }
   ],
   "source": [
    "highest_cohort = defaulted_ratio.sort_values('default_label', ascending=False).iloc[0]\n",
    "print(\"The cohort with the highest rate of defaults is:\", \"loan_grade\", highest_cohort[0], \"year\", highest_cohort[1], \"with rate\", round(highest_cohort[2]*100, 2), \"%\")"
   ]
  },
  {
   "cell_type": "code",
   "execution_count": 1588,
   "metadata": {},
   "outputs": [
    {
     "data": {
      "text/plain": [
       "[Text(0,0.5,'Default Rate')]"
      ]
     },
     "execution_count": 1588,
     "metadata": {
      "bento_obj_id": "140447391863184"
     },
     "output_type": "execute_result"
    },
    {
     "data": {
      "image/png": "[encoded data removed]",
      "text/plain": [
       "<Figure size 1440x1080 with 1 Axes>"
      ]
     },
     "metadata": {
      "bento_obj_id": "140447430354832"
     },
     "output_type": "display_data"
    }
   ],
   "source": [
    "plt.subplots(figsize=(20,15))\n",
    "defaulted_loans = loan_data_36_months['default_label'].groupby([loan_data_36_months['grade'], loan_data_36_months['year']]).sum()\n",
    "all_loans = loan_data_36_months['default_label'].groupby([loan_data_36_months['grade'], loan_data_36_months['year']]).count()\n",
    "defaulted_ratio = pd.DataFrame(defaulted_loans/all_loans).reset_index()\n",
    "plt.title('Default Rate by Year and Loan Grade')\n",
    "sns.barplot(x='year', y='default_label', data=defaulted_ratio, hue='grade', palette=\"Blues_r\").set(ylabel='Default Rate')"
   ]
  },
  {
   "cell_type": "code",
   "execution_count": 1589,
   "metadata": {
    "collapsed": true
   },
   "outputs": [],
   "source": [
    "loan_data_36_months_final = get_all_rors(loan_data_36_months)"
   ]
  },
  {
   "cell_type": "code",
   "execution_count": 1590,
   "metadata": {
    "collapsed": true
   },
   "outputs": [],
   "source": [
    "annualized_ror = annualized_ror.reset_index(level=0)"
   ]
  },
  {
   "cell_type": "code",
   "execution_count": 1591,
   "metadata": {},
   "outputs": [
    {
     "data": {
      "application/vnd.dataresource+json": {
       "data": [
        {
         "annualized_rate_of_return": 0.0173155947,
         "grade": "A",
         "year": 2015
        },
        {
         "annualized_rate_of_return": 0.0144860991,
         "grade": "B",
         "year": 2015
        },
        {
         "annualized_rate_of_return": 0.0052890222,
         "grade": "C",
         "year": 2015
        },
        {
         "annualized_rate_of_return": 0.0027265211,
         "grade": "A",
         "year": 2016
        },
        {
         "annualized_rate_of_return": -0.0019852784,
         "grade": "B",
         "year": 2016
        },
        {
         "annualized_rate_of_return": -0.0081310993,
         "grade": "D",
         "year": 2015
        },
        {
         "annualized_rate_of_return": -0.0086077823,
         "grade": "C",
         "year": 2016
        },
        {
         "annualized_rate_of_return": -0.0163828623,
         "grade": "D",
         "year": 2016
        },
        {
         "annualized_rate_of_return": -0.0267150023,
         "grade": "E",
         "year": 2015
        },
        {
         "annualized_rate_of_return": -0.0269034475,
         "grade": "E",
         "year": 2016
        },
        {
         "annualized_rate_of_return": -0.0362360924,
         "grade": "F",
         "year": 2015
        },
        {
         "annualized_rate_of_return": -0.0372602286,
         "grade": "F",
         "year": 2016
        },
        {
         "annualized_rate_of_return": -0.0607455185,
         "grade": "G",
         "year": 2016
        },
        {
         "annualized_rate_of_return": -0.076410174,
         "grade": "G",
         "year": 2015
        }
       ],
       "schema": {
        "fields": [
         {
          "name": "year",
          "type": "integer"
         },
         {
          "name": "grade",
          "type": "string"
         },
         {
          "name": "annualized_rate_of_return",
          "type": "number"
         }
        ],
        "pandas_version": "0.20.0"
       }
      },
      "text/html": [
       "<div>\n",
       "<style scoped>\n",
       "    .dataframe tbody tr th:only-of-type {\n",
       "        vertical-align: middle;\n",
       "    }\n",
       "\n",
       "    .dataframe tbody tr th {\n",
       "        vertical-align: top;\n",
       "    }\n",
       "\n",
       "    .dataframe thead th {\n",
       "        text-align: right;\n",
       "    }\n",
       "</style>\n",
       "<table border=\"1\" class=\"dataframe\">\n",
       "  <thead>\n",
       "    <tr style=\"text-align: right;\">\n",
       "      <th></th>\n",
       "      <th>grade</th>\n",
       "      <th>annualized_rate_of_return</th>\n",
       "    </tr>\n",
       "    <tr>\n",
       "      <th>year</th>\n",
       "      <th></th>\n",
       "      <th></th>\n",
       "    </tr>\n",
       "  </thead>\n",
       "  <tbody>\n",
       "    <tr>\n",
       "      <th>2015</th>\n",
       "      <td>A</td>\n",
       "      <td>0.017316</td>\n",
       "    </tr>\n",
       "    <tr>\n",
       "      <th>2015</th>\n",
       "      <td>B</td>\n",
       "      <td>0.014486</td>\n",
       "    </tr>\n",
       "    <tr>\n",
       "      <th>2015</th>\n",
       "      <td>C</td>\n",
       "      <td>0.005289</td>\n",
       "    </tr>\n",
       "    <tr>\n",
       "      <th>2016</th>\n",
       "      <td>A</td>\n",
       "      <td>0.002727</td>\n",
       "    </tr>\n",
       "    <tr>\n",
       "      <th>2016</th>\n",
       "      <td>B</td>\n",
       "      <td>-0.001985</td>\n",
       "    </tr>\n",
       "    <tr>\n",
       "      <th>2015</th>\n",
       "      <td>D</td>\n",
       "      <td>-0.008131</td>\n",
       "    </tr>\n",
       "    <tr>\n",
       "      <th>2016</th>\n",
       "      <td>C</td>\n",
       "      <td>-0.008608</td>\n",
       "    </tr>\n",
       "    <tr>\n",
       "      <th>2016</th>\n",
       "      <td>D</td>\n",
       "      <td>-0.016383</td>\n",
       "    </tr>\n",
       "    <tr>\n",
       "      <th>2015</th>\n",
       "      <td>E</td>\n",
       "      <td>-0.026715</td>\n",
       "    </tr>\n",
       "    <tr>\n",
       "      <th>2016</th>\n",
       "      <td>E</td>\n",
       "      <td>-0.026903</td>\n",
       "    </tr>\n",
       "    <tr>\n",
       "      <th>2015</th>\n",
       "      <td>F</td>\n",
       "      <td>-0.036236</td>\n",
       "    </tr>\n",
       "    <tr>\n",
       "      <th>2016</th>\n",
       "      <td>F</td>\n",
       "      <td>-0.037260</td>\n",
       "    </tr>\n",
       "    <tr>\n",
       "      <th>2016</th>\n",
       "      <td>G</td>\n",
       "      <td>-0.060746</td>\n",
       "    </tr>\n",
       "    <tr>\n",
       "      <th>2015</th>\n",
       "      <td>G</td>\n",
       "      <td>-0.076410</td>\n",
       "    </tr>\n",
       "  </tbody>\n",
       "</table>\n",
       "</div>"
      ],
      "text/plain": [
       "     grade  annualized_rate_of_return\n",
       "year                                 \n",
       "2015  A     0.017316                 \n",
       "2015  B     0.014486                 \n",
       "2015  C     0.005289                 \n",
       "2016  A     0.002727                 \n",
       "2016  B    -0.001985                 \n",
       "2015  D    -0.008131                 \n",
       "2016  C    -0.008608                 \n",
       "2016  D    -0.016383                 \n",
       "2015  E    -0.026715                 \n",
       "2016  E    -0.026903                 \n",
       "2015  F    -0.036236                 \n",
       "2016  F    -0.037260                 \n",
       "2016  G    -0.060746                 \n",
       "2015  G    -0.076410                 "
      ]
     },
     "execution_count": 1591,
     "metadata": {
      "bento_obj_id": "140447317530064"
     },
     "output_type": "execute_result"
    }
   ],
   "source": [
    "annualized_ror"
   ]
  },
  {
   "cell_type": "code",
   "execution_count": 1592,
   "metadata": {
    "collapsed": true
   },
   "outputs": [],
   "source": [
    "annualized_ror = pd.DataFrame(loan_data_36_months_final['annualized_rate_of_return'].groupby([loan_data_36_months_final['grade'], loan_data_36_months_final['year']]).mean()).sort_values('annualized_rate_of_return', ascending=False)"
   ]
  },
  {
   "cell_type": "code",
   "execution_count": 1593,
   "metadata": {},
   "outputs": [
    {
     "name": "stdout",
     "output_type": "stream",
     "text": [
      "The average rate of return aggregated by loan grade and year is:  -3.6999999999999997 %\n"
     ]
    }
   ],
   "source": [
    "print(\"The average rate of return aggregated by loan grade and year is: \", round(annualized_ror.annualized_rate_of_return.mean(), 3)*100, \"%\")"
   ]
  },
  {
   "cell_type": "markdown",
   "metadata": {},
   "source": [
    "• Average rate of return is negative across the entire portfolio of 36 month term loans at -3.7%."
   ]
  },
  {
   "cell_type": "markdown",
   "metadata": {},
   "source": [
    "• However, high grade bonds from A-C in 2015 and A in 2016 had positive average rate of return on average. The highest performing loan cohort was grade A in 2015, which is to be expected given it is the earliest lowest risk measured."
   ]
  },
  {
   "cell_type": "markdown",
   "metadata": {},
   "source": [
    "• Negatively performing bonds were lower in grade and newer. "
   ]
  },
  {
   "cell_type": "code",
   "execution_count": 1596,
   "metadata": {},
   "outputs": [
    {
     "data": {
      "application/vnd.dataresource+json": {
       "data": [
        {
         "annual_inc": 95000,
         "annualized_rate_of_return": -0.0203409488,
         "default_label": 1,
         "dti": 10.3,
         "funded_amnt": 8000,
         "grade": "C",
         "index": 495242,
         "int_rate": 12.79,
         "issue_d": "Sep-2016",
         "loan_amnt": 8000,
         "loan_status": "Current",
         "revol_bal": 11343,
         "term": " 36 months",
         "total_pymnt": 7521.68,
         "year": 2016
        },
        {
         "annual_inc": 66000,
         "annualized_rate_of_return": -0.2831876385,
         "default_label": 1,
         "dti": 12.62,
         "funded_amnt": 20000,
         "grade": "D",
         "index": 495243,
         "int_rate": 17.99,
         "issue_d": "Sep-2016",
         "loan_amnt": 20000,
         "loan_status": "Charged Off",
         "revol_bal": 3565,
         "term": " 60 months",
         "total_pymnt": 7366.25,
         "year": 2016
        },
        {
         "annual_inc": 137500,
         "annualized_rate_of_return": 0.0311050783,
         "default_label": 0,
         "dti": 13.42,
         "funded_amnt": 10000,
         "grade": "A",
         "index": 495244,
         "int_rate": 8.59,
         "issue_d": "Sep-2016",
         "loan_amnt": 10000,
         "loan_status": "Fully Paid",
         "revol_bal": 9031,
         "term": " 36 months",
         "total_pymnt": 10962.4790760013,
         "year": 2016
        },
        {
         "annual_inc": 65000,
         "annualized_rate_of_return": 0.0356769532,
         "default_label": 0,
         "dti": 11.71,
         "funded_amnt": 32200,
         "grade": "D",
         "index": 495245,
         "int_rate": 21.49,
         "issue_d": "Sep-2016",
         "loan_amnt": 32200,
         "loan_status": "Fully Paid",
         "revol_bal": 11987,
         "term": " 60 months",
         "total_pymnt": 35770.8127464985,
         "year": 2016
        },
        {
         "annual_inc": 35000,
         "annualized_rate_of_return": 0.0079608463,
         "default_label": 0,
         "dti": 6.73,
         "funded_amnt": 2600,
         "grade": "B",
         "index": 495246,
         "int_rate": 8.99,
         "issue_d": "Sep-2016",
         "loan_amnt": 2600,
         "loan_status": "Fully Paid",
         "revol_bal": 720,
         "term": " 36 months",
         "total_pymnt": 2662.5902384687,
         "year": 2016
        }
       ],
       "schema": {
        "fields": [
         {
          "name": "index",
          "type": "integer"
         },
         {
          "name": "loan_amnt",
          "type": "integer"
         },
         {
          "name": "funded_amnt",
          "type": "integer"
         },
         {
          "name": "term",
          "type": "string"
         },
         {
          "name": "int_rate",
          "type": "number"
         },
         {
          "name": "grade",
          "type": "string"
         },
         {
          "name": "annual_inc",
          "type": "number"
         },
         {
          "name": "issue_d",
          "type": "string"
         },
         {
          "name": "dti",
          "type": "number"
         },
         {
          "name": "revol_bal",
          "type": "number"
         },
         {
          "name": "total_pymnt",
          "type": "number"
         },
         {
          "name": "loan_status",
          "type": "string"
         },
         {
          "name": "default_label",
          "type": "integer"
         },
         {
          "name": "year",
          "type": "integer"
         },
         {
          "name": "annualized_rate_of_return",
          "type": "number"
         }
        ],
        "pandas_version": "0.20.0",
        "primaryKey": [
         "index"
        ]
       }
      },
      "text/html": [
       "<div>\n",
       "<style scoped>\n",
       "    .dataframe tbody tr th:only-of-type {\n",
       "        vertical-align: middle;\n",
       "    }\n",
       "\n",
       "    .dataframe tbody tr th {\n",
       "        vertical-align: top;\n",
       "    }\n",
       "\n",
       "    .dataframe thead th {\n",
       "        text-align: right;\n",
       "    }\n",
       "</style>\n",
       "<table border=\"1\" class=\"dataframe\">\n",
       "  <thead>\n",
       "    <tr style=\"text-align: right;\">\n",
       "      <th></th>\n",
       "      <th>loan_amnt</th>\n",
       "      <th>funded_amnt</th>\n",
       "      <th>term</th>\n",
       "      <th>int_rate</th>\n",
       "      <th>grade</th>\n",
       "      <th>annual_inc</th>\n",
       "      <th>issue_d</th>\n",
       "      <th>dti</th>\n",
       "      <th>revol_bal</th>\n",
       "      <th>total_pymnt</th>\n",
       "      <th>loan_status</th>\n",
       "      <th>default_label</th>\n",
       "      <th>year</th>\n",
       "      <th>annualized_rate_of_return</th>\n",
       "    </tr>\n",
       "  </thead>\n",
       "  <tbody>\n",
       "    <tr>\n",
       "      <th>495242</th>\n",
       "      <td>8000</td>\n",
       "      <td>8000</td>\n",
       "      <td>36 months</td>\n",
       "      <td>12.79</td>\n",
       "      <td>C</td>\n",
       "      <td>95000.0</td>\n",
       "      <td>Sep-2016</td>\n",
       "      <td>10.30</td>\n",
       "      <td>11343.0</td>\n",
       "      <td>7521.680000</td>\n",
       "      <td>Current</td>\n",
       "      <td>1</td>\n",
       "      <td>2016</td>\n",
       "      <td>-0.020341</td>\n",
       "    </tr>\n",
       "    <tr>\n",
       "      <th>495243</th>\n",
       "      <td>20000</td>\n",
       "      <td>20000</td>\n",
       "      <td>60 months</td>\n",
       "      <td>17.99</td>\n",
       "      <td>D</td>\n",
       "      <td>66000.0</td>\n",
       "      <td>Sep-2016</td>\n",
       "      <td>12.62</td>\n",
       "      <td>3565.0</td>\n",
       "      <td>7366.250000</td>\n",
       "      <td>Charged Off</td>\n",
       "      <td>1</td>\n",
       "      <td>2016</td>\n",
       "      <td>-0.283188</td>\n",
       "    </tr>\n",
       "    <tr>\n",
       "      <th>495244</th>\n",
       "      <td>10000</td>\n",
       "      <td>10000</td>\n",
       "      <td>36 months</td>\n",
       "      <td>8.59</td>\n",
       "      <td>A</td>\n",
       "      <td>137500.0</td>\n",
       "      <td>Sep-2016</td>\n",
       "      <td>13.42</td>\n",
       "      <td>9031.0</td>\n",
       "      <td>10962.479076</td>\n",
       "      <td>Fully Paid</td>\n",
       "      <td>0</td>\n",
       "      <td>2016</td>\n",
       "      <td>0.031105</td>\n",
       "    </tr>\n",
       "    <tr>\n",
       "      <th>495245</th>\n",
       "      <td>32200</td>\n",
       "      <td>32200</td>\n",
       "      <td>60 months</td>\n",
       "      <td>21.49</td>\n",
       "      <td>D</td>\n",
       "      <td>65000.0</td>\n",
       "      <td>Sep-2016</td>\n",
       "      <td>11.71</td>\n",
       "      <td>11987.0</td>\n",
       "      <td>35770.812746</td>\n",
       "      <td>Fully Paid</td>\n",
       "      <td>0</td>\n",
       "      <td>2016</td>\n",
       "      <td>0.035677</td>\n",
       "    </tr>\n",
       "    <tr>\n",
       "      <th>495246</th>\n",
       "      <td>2600</td>\n",
       "      <td>2600</td>\n",
       "      <td>36 months</td>\n",
       "      <td>8.99</td>\n",
       "      <td>B</td>\n",
       "      <td>35000.0</td>\n",
       "      <td>Sep-2016</td>\n",
       "      <td>6.73</td>\n",
       "      <td>720.0</td>\n",
       "      <td>2662.590238</td>\n",
       "      <td>Fully Paid</td>\n",
       "      <td>0</td>\n",
       "      <td>2016</td>\n",
       "      <td>0.007961</td>\n",
       "    </tr>\n",
       "  </tbody>\n",
       "</table>\n",
       "</div>"
      ],
      "text/plain": [
       "        loan_amnt  funded_amnt        term  int_rate grade  annual_inc  \\\n",
       "495242  8000       8000          36 months  12.79     C     95000.0      \n",
       "495243  20000      20000         60 months  17.99     D     66000.0      \n",
       "495244  10000      10000         36 months  8.59      A     137500.0     \n",
       "495245  32200      32200         60 months  21.49     D     65000.0      \n",
       "495246  2600       2600          36 months  8.99      B     35000.0      \n",
       "\n",
       "         issue_d    dti  revol_bal   total_pymnt  loan_status  default_label  \\\n",
       "495242  Sep-2016  10.30  11343.0    7521.680000   Current      1               \n",
       "495243  Sep-2016  12.62  3565.0     7366.250000   Charged Off  1               \n",
       "495244  Sep-2016  13.42  9031.0     10962.479076  Fully Paid   0               \n",
       "495245  Sep-2016  11.71  11987.0    35770.812746  Fully Paid   0               \n",
       "495246  Sep-2016  6.73   720.0      2662.590238   Fully Paid   0               \n",
       "\n",
       "        year  annualized_rate_of_return  \n",
       "495242  2016 -0.020341                   \n",
       "495243  2016 -0.283188                   \n",
       "495244  2016  0.031105                   \n",
       "495245  2016  0.035677                   \n",
       "495246  2016  0.007961                   "
      ]
     },
     "execution_count": 1596,
     "metadata": {
      "bento_obj_id": "140444373810320"
     },
     "output_type": "execute_result"
    }
   ],
   "source": [
    "loan_data_36_months_final.head()"
   ]
  },
  {
   "cell_type": "markdown",
   "metadata": {},
   "source": [
    "• In general, the variance and spread of the performance of the bond cohorts increases as the loan grade increases. "
   ]
  },
  {
   "cell_type": "markdown",
   "metadata": {},
   "source": [
    "• The earliest loans and higher grade bonds will have the highest average rate of return. "
   ]
  },
  {
   "cell_type": "markdown",
   "metadata": {},
   "source": [
    "• The lower grade bonds will have the widest spread and highest potential for upside and downside. "
   ]
  },
  {
   "cell_type": "markdown",
   "metadata": {},
   "source": [
    "• Grade C 2016 loans appears to be an outlier, with an exceptionally high spread of higher rate of return. "
   ]
  },
  {
   "cell_type": "code",
   "execution_count": 1597,
   "metadata": {},
   "outputs": [
    {
     "data": {
      "text/plain": [
       "<matplotlib.axes._subplots.AxesSubplot at 0x7fbc6b264450>"
      ]
     },
     "execution_count": 1597,
     "metadata": {
      "bento_obj_id": "140447228249168"
     },
     "output_type": "execute_result"
    },
    {
     "data": {
      "image/png": "[encoded data removed]",
      "text/plain": [
       "<Figure size 1440x1080 with 1 Axes>"
      ]
     },
     "metadata": {
      "bento_obj_id": "140447342193744"
     },
     "output_type": "display_data"
    }
   ],
   "source": [
    "plt.subplots(figsize=(20,15))\n",
    "plt.title('Annualized Rate of Return per Year and Loan Grade')\n",
    "sns.boxplot(x='year', \n",
    "            y='annualized_rate_of_return', \n",
    "            data=loan_data_36_months_final, \n",
    "            hue='grade', \n",
    "            hue_order=['A', 'B', 'C', 'D', 'E', 'F', 'G'],\n",
    "            palette=\"Blues_r\")"
   ]
  },
  {
   "cell_type": "markdown",
   "metadata": {},
   "source": [
    "## Part 3: Modeling"
   ]
  },
  {
   "cell_type": "markdown",
   "metadata": {},
   "source": [
    "### Label"
   ]
  },
  {
   "cell_type": "markdown",
   "metadata": {},
   "source": [
    "Label defined above as those which have not been fully paid. "
   ]
  },
  {
   "cell_type": "code",
   "execution_count": 1599,
   "metadata": {
    "collapsed": true
   },
   "outputs": [],
   "source": [
    "label=loan_data_36_months_final['default_label']"
   ]
  },
  {
   "cell_type": "code",
   "execution_count": 1600,
   "metadata": {},
   "outputs": [
    {
     "data": {
      "text/plain": [
       "426363"
      ]
     },
     "execution_count": 1600,
     "metadata": {
      "bento_obj_id": "140447208587920"
     },
     "output_type": "execute_result"
    }
   ],
   "source": [
    "label.count()"
   ]
  },
  {
   "cell_type": "code",
   "execution_count": 1601,
   "metadata": {},
   "outputs": [
    {
     "data": {
      "text/plain": [
       "<matplotlib.axes._subplots.AxesSubplot at 0x7fbbf5f3d050>"
      ]
     },
     "execution_count": 1601,
     "metadata": {
      "bento_obj_id": "140445262008400"
     },
     "output_type": "execute_result"
    },
    {
     "data": {
      "image/png": "[encoded data removed]",
      "text/plain": [
       "<Figure size 432x288 with 1 Axes>"
      ]
     },
     "metadata": {
      "bento_obj_id": "140447316426064"
     },
     "output_type": "display_data"
    }
   ],
   "source": [
    "sns.countplot(x=label, palette=\"Blues_r\")"
   ]
  },
  {
   "cell_type": "markdown",
   "metadata": {},
   "source": [
    "### Features"
   ]
  },
  {
   "cell_type": "markdown",
   "metadata": {},
   "source": [
    "Extract relevant features available at origination. This does not include loan status (assumed to be current and used for label definition) or term (we assume all loans are 36 month)."
   ]
  },
  {
   "cell_type": "code",
   "execution_count": 1602,
   "metadata": {
    "collapsed": true
   },
   "outputs": [],
   "source": [
    "features = loan_data_36_months_final[['dti', 'annual_inc', 'int_rate', 'funded_amnt', 'grade', 'issue_d']]"
   ]
  },
  {
   "cell_type": "code",
   "execution_count": 1603,
   "metadata": {},
   "outputs": [
    {
     "data": {
      "application/vnd.dataresource+json": {
       "data": [
        {
         "annual_inc": 95000,
         "dti": 10.3,
         "funded_amnt": 8000,
         "grade": "C",
         "index": 495242,
         "int_rate": 12.79,
         "issue_d": "Sep-2016"
        },
        {
         "annual_inc": 66000,
         "dti": 12.62,
         "funded_amnt": 20000,
         "grade": "D",
         "index": 495243,
         "int_rate": 17.99,
         "issue_d": "Sep-2016"
        },
        {
         "annual_inc": 137500,
         "dti": 13.42,
         "funded_amnt": 10000,
         "grade": "A",
         "index": 495244,
         "int_rate": 8.59,
         "issue_d": "Sep-2016"
        },
        {
         "annual_inc": 65000,
         "dti": 11.71,
         "funded_amnt": 32200,
         "grade": "D",
         "index": 495245,
         "int_rate": 21.49,
         "issue_d": "Sep-2016"
        },
        {
         "annual_inc": 35000,
         "dti": 6.73,
         "funded_amnt": 2600,
         "grade": "B",
         "index": 495246,
         "int_rate": 8.99,
         "issue_d": "Sep-2016"
        }
       ],
       "schema": {
        "fields": [
         {
          "name": "index",
          "type": "integer"
         },
         {
          "name": "dti",
          "type": "number"
         },
         {
          "name": "annual_inc",
          "type": "number"
         },
         {
          "name": "int_rate",
          "type": "number"
         },
         {
          "name": "funded_amnt",
          "type": "integer"
         },
         {
          "name": "grade",
          "type": "string"
         },
         {
          "name": "issue_d",
          "type": "string"
         }
        ],
        "pandas_version": "0.20.0",
        "primaryKey": [
         "index"
        ]
       }
      },
      "text/html": [
       "<div>\n",
       "<style scoped>\n",
       "    .dataframe tbody tr th:only-of-type {\n",
       "        vertical-align: middle;\n",
       "    }\n",
       "\n",
       "    .dataframe tbody tr th {\n",
       "        vertical-align: top;\n",
       "    }\n",
       "\n",
       "    .dataframe thead th {\n",
       "        text-align: right;\n",
       "    }\n",
       "</style>\n",
       "<table border=\"1\" class=\"dataframe\">\n",
       "  <thead>\n",
       "    <tr style=\"text-align: right;\">\n",
       "      <th></th>\n",
       "      <th>dti</th>\n",
       "      <th>annual_inc</th>\n",
       "      <th>int_rate</th>\n",
       "      <th>funded_amnt</th>\n",
       "      <th>grade</th>\n",
       "      <th>issue_d</th>\n",
       "    </tr>\n",
       "  </thead>\n",
       "  <tbody>\n",
       "    <tr>\n",
       "      <th>495242</th>\n",
       "      <td>10.30</td>\n",
       "      <td>95000.0</td>\n",
       "      <td>12.79</td>\n",
       "      <td>8000</td>\n",
       "      <td>C</td>\n",
       "      <td>Sep-2016</td>\n",
       "    </tr>\n",
       "    <tr>\n",
       "      <th>495243</th>\n",
       "      <td>12.62</td>\n",
       "      <td>66000.0</td>\n",
       "      <td>17.99</td>\n",
       "      <td>20000</td>\n",
       "      <td>D</td>\n",
       "      <td>Sep-2016</td>\n",
       "    </tr>\n",
       "    <tr>\n",
       "      <th>495244</th>\n",
       "      <td>13.42</td>\n",
       "      <td>137500.0</td>\n",
       "      <td>8.59</td>\n",
       "      <td>10000</td>\n",
       "      <td>A</td>\n",
       "      <td>Sep-2016</td>\n",
       "    </tr>\n",
       "    <tr>\n",
       "      <th>495245</th>\n",
       "      <td>11.71</td>\n",
       "      <td>65000.0</td>\n",
       "      <td>21.49</td>\n",
       "      <td>32200</td>\n",
       "      <td>D</td>\n",
       "      <td>Sep-2016</td>\n",
       "    </tr>\n",
       "    <tr>\n",
       "      <th>495246</th>\n",
       "      <td>6.73</td>\n",
       "      <td>35000.0</td>\n",
       "      <td>8.99</td>\n",
       "      <td>2600</td>\n",
       "      <td>B</td>\n",
       "      <td>Sep-2016</td>\n",
       "    </tr>\n",
       "  </tbody>\n",
       "</table>\n",
       "</div>"
      ],
      "text/plain": [
       "          dti  annual_inc  int_rate  funded_amnt grade   issue_d\n",
       "495242  10.30  95000.0     12.79     8000         C     Sep-2016\n",
       "495243  12.62  66000.0     17.99     20000        D     Sep-2016\n",
       "495244  13.42  137500.0    8.59      10000        A     Sep-2016\n",
       "495245  11.71  65000.0     21.49     32200        D     Sep-2016\n",
       "495246  6.73   35000.0     8.99      2600         B     Sep-2016"
      ]
     },
     "execution_count": 1603,
     "metadata": {
      "bento_obj_id": "140445262357648"
     },
     "output_type": "execute_result"
    }
   ],
   "source": [
    "features.head()"
   ]
  },
  {
   "cell_type": "markdown",
   "metadata": {},
   "source": [
    "Text Features: One Hot Encoding to convert features to a usable format for the model"
   ]
  },
  {
   "cell_type": "code",
   "execution_count": 1604,
   "metadata": {
    "collapsed": true
   },
   "outputs": [],
   "source": [
    "features = pd.get_dummies(features, columns=[\"grade\", \"issue_d\"])"
   ]
  },
  {
   "cell_type": "code",
   "execution_count": 1605,
   "metadata": {},
   "outputs": [
    {
     "data": {
      "application/vnd.dataresource+json": {
       "data": [
        {
         "annual_inc": 95000,
         "dti": 10.3,
         "funded_amnt": 8000,
         "grade_A": 0,
         "grade_B": 0,
         "grade_C": 1,
         "grade_D": 0,
         "grade_E": 0,
         "grade_F": 0,
         "grade_G": 0,
         "index": 495242,
         "int_rate": 12.79,
         "issue_d_Apr-2016": 0,
         "issue_d_Aug-2016": 0,
         "issue_d_Dec-2015": 0,
         "issue_d_Feb-2016": 0,
         "issue_d_Jan-2016": 0,
         "issue_d_Jul-2016": 0,
         "issue_d_Jun-2016": 0,
         "issue_d_Mar-2016": 0,
         "issue_d_May-2016": 0,
         "issue_d_Nov-2016": 0,
         "issue_d_Oct-2016": 0,
         "issue_d_Sep-2016": 1
        },
        {
         "annual_inc": 66000,
         "dti": 12.62,
         "funded_amnt": 20000,
         "grade_A": 0,
         "grade_B": 0,
         "grade_C": 0,
         "grade_D": 1,
         "grade_E": 0,
         "grade_F": 0,
         "grade_G": 0,
         "index": 495243,
         "int_rate": 17.99,
         "issue_d_Apr-2016": 0,
         "issue_d_Aug-2016": 0,
         "issue_d_Dec-2015": 0,
         "issue_d_Feb-2016": 0,
         "issue_d_Jan-2016": 0,
         "issue_d_Jul-2016": 0,
         "issue_d_Jun-2016": 0,
         "issue_d_Mar-2016": 0,
         "issue_d_May-2016": 0,
         "issue_d_Nov-2016": 0,
         "issue_d_Oct-2016": 0,
         "issue_d_Sep-2016": 1
        },
        {
         "annual_inc": 137500,
         "dti": 13.42,
         "funded_amnt": 10000,
         "grade_A": 1,
         "grade_B": 0,
         "grade_C": 0,
         "grade_D": 0,
         "grade_E": 0,
         "grade_F": 0,
         "grade_G": 0,
         "index": 495244,
         "int_rate": 8.59,
         "issue_d_Apr-2016": 0,
         "issue_d_Aug-2016": 0,
         "issue_d_Dec-2015": 0,
         "issue_d_Feb-2016": 0,
         "issue_d_Jan-2016": 0,
         "issue_d_Jul-2016": 0,
         "issue_d_Jun-2016": 0,
         "issue_d_Mar-2016": 0,
         "issue_d_May-2016": 0,
         "issue_d_Nov-2016": 0,
         "issue_d_Oct-2016": 0,
         "issue_d_Sep-2016": 1
        },
        {
         "annual_inc": 65000,
         "dti": 11.71,
         "funded_amnt": 32200,
         "grade_A": 0,
         "grade_B": 0,
         "grade_C": 0,
         "grade_D": 1,
         "grade_E": 0,
         "grade_F": 0,
         "grade_G": 0,
         "index": 495245,
         "int_rate": 21.49,
         "issue_d_Apr-2016": 0,
         "issue_d_Aug-2016": 0,
         "issue_d_Dec-2015": 0,
         "issue_d_Feb-2016": 0,
         "issue_d_Jan-2016": 0,
         "issue_d_Jul-2016": 0,
         "issue_d_Jun-2016": 0,
         "issue_d_Mar-2016": 0,
         "issue_d_May-2016": 0,
         "issue_d_Nov-2016": 0,
         "issue_d_Oct-2016": 0,
         "issue_d_Sep-2016": 1
        },
        {
         "annual_inc": 35000,
         "dti": 6.73,
         "funded_amnt": 2600,
         "grade_A": 0,
         "grade_B": 1,
         "grade_C": 0,
         "grade_D": 0,
         "grade_E": 0,
         "grade_F": 0,
         "grade_G": 0,
         "index": 495246,
         "int_rate": 8.99,
         "issue_d_Apr-2016": 0,
         "issue_d_Aug-2016": 0,
         "issue_d_Dec-2015": 0,
         "issue_d_Feb-2016": 0,
         "issue_d_Jan-2016": 0,
         "issue_d_Jul-2016": 0,
         "issue_d_Jun-2016": 0,
         "issue_d_Mar-2016": 0,
         "issue_d_May-2016": 0,
         "issue_d_Nov-2016": 0,
         "issue_d_Oct-2016": 0,
         "issue_d_Sep-2016": 1
        }
       ],
       "schema": {
        "fields": [
         {
          "name": "index",
          "type": "integer"
         },
         {
          "name": "dti",
          "type": "number"
         },
         {
          "name": "annual_inc",
          "type": "number"
         },
         {
          "name": "int_rate",
          "type": "number"
         },
         {
          "name": "funded_amnt",
          "type": "integer"
         },
         {
          "name": "grade_A",
          "type": "integer"
         },
         {
          "name": "grade_B",
          "type": "integer"
         },
         {
          "name": "grade_C",
          "type": "integer"
         },
         {
          "name": "grade_D",
          "type": "integer"
         },
         {
          "name": "grade_E",
          "type": "integer"
         },
         {
          "name": "grade_F",
          "type": "integer"
         },
         {
          "name": "grade_G",
          "type": "integer"
         },
         {
          "name": "issue_d_Apr-2016",
          "type": "integer"
         },
         {
          "name": "issue_d_Aug-2016",
          "type": "integer"
         },
         {
          "name": "issue_d_Dec-2015",
          "type": "integer"
         },
         {
          "name": "issue_d_Feb-2016",
          "type": "integer"
         },
         {
          "name": "issue_d_Jan-2016",
          "type": "integer"
         },
         {
          "name": "issue_d_Jul-2016",
          "type": "integer"
         },
         {
          "name": "issue_d_Jun-2016",
          "type": "integer"
         },
         {
          "name": "issue_d_Mar-2016",
          "type": "integer"
         },
         {
          "name": "issue_d_May-2016",
          "type": "integer"
         },
         {
          "name": "issue_d_Nov-2016",
          "type": "integer"
         },
         {
          "name": "issue_d_Oct-2016",
          "type": "integer"
         },
         {
          "name": "issue_d_Sep-2016",
          "type": "integer"
         }
        ],
        "pandas_version": "0.20.0",
        "primaryKey": [
         "index"
        ]
       }
      },
      "text/html": [
       "<div>\n",
       "<style scoped>\n",
       "    .dataframe tbody tr th:only-of-type {\n",
       "        vertical-align: middle;\n",
       "    }\n",
       "\n",
       "    .dataframe tbody tr th {\n",
       "        vertical-align: top;\n",
       "    }\n",
       "\n",
       "    .dataframe thead th {\n",
       "        text-align: right;\n",
       "    }\n",
       "</style>\n",
       "<table border=\"1\" class=\"dataframe\">\n",
       "  <thead>\n",
       "    <tr style=\"text-align: right;\">\n",
       "      <th></th>\n",
       "      <th>dti</th>\n",
       "      <th>annual_inc</th>\n",
       "      <th>int_rate</th>\n",
       "      <th>funded_amnt</th>\n",
       "      <th>grade_A</th>\n",
       "      <th>grade_B</th>\n",
       "      <th>grade_C</th>\n",
       "      <th>grade_D</th>\n",
       "      <th>grade_E</th>\n",
       "      <th>grade_F</th>\n",
       "      <th>grade_G</th>\n",
       "      <th>issue_d_Apr-2016</th>\n",
       "      <th>issue_d_Aug-2016</th>\n",
       "      <th>issue_d_Dec-2015</th>\n",
       "      <th>issue_d_Feb-2016</th>\n",
       "      <th>issue_d_Jan-2016</th>\n",
       "      <th>issue_d_Jul-2016</th>\n",
       "      <th>issue_d_Jun-2016</th>\n",
       "      <th>issue_d_Mar-2016</th>\n",
       "      <th>issue_d_May-2016</th>\n",
       "      <th>issue_d_Nov-2016</th>\n",
       "      <th>issue_d_Oct-2016</th>\n",
       "      <th>issue_d_Sep-2016</th>\n",
       "    </tr>\n",
       "  </thead>\n",
       "  <tbody>\n",
       "    <tr>\n",
       "      <th>495242</th>\n",
       "      <td>10.30</td>\n",
       "      <td>95000.0</td>\n",
       "      <td>12.79</td>\n",
       "      <td>8000</td>\n",
       "      <td>0</td>\n",
       "      <td>0</td>\n",
       "      <td>1</td>\n",
       "      <td>0</td>\n",
       "      <td>0</td>\n",
       "      <td>0</td>\n",
       "      <td>0</td>\n",
       "      <td>0</td>\n",
       "      <td>0</td>\n",
       "      <td>0</td>\n",
       "      <td>0</td>\n",
       "      <td>0</td>\n",
       "      <td>0</td>\n",
       "      <td>0</td>\n",
       "      <td>0</td>\n",
       "      <td>0</td>\n",
       "      <td>0</td>\n",
       "      <td>0</td>\n",
       "      <td>1</td>\n",
       "    </tr>\n",
       "    <tr>\n",
       "      <th>495243</th>\n",
       "      <td>12.62</td>\n",
       "      <td>66000.0</td>\n",
       "      <td>17.99</td>\n",
       "      <td>20000</td>\n",
       "      <td>0</td>\n",
       "      <td>0</td>\n",
       "      <td>0</td>\n",
       "      <td>1</td>\n",
       "      <td>0</td>\n",
       "      <td>0</td>\n",
       "      <td>0</td>\n",
       "      <td>0</td>\n",
       "      <td>0</td>\n",
       "      <td>0</td>\n",
       "      <td>0</td>\n",
       "      <td>0</td>\n",
       "      <td>0</td>\n",
       "      <td>0</td>\n",
       "      <td>0</td>\n",
       "      <td>0</td>\n",
       "      <td>0</td>\n",
       "      <td>0</td>\n",
       "      <td>1</td>\n",
       "    </tr>\n",
       "    <tr>\n",
       "      <th>495244</th>\n",
       "      <td>13.42</td>\n",
       "      <td>137500.0</td>\n",
       "      <td>8.59</td>\n",
       "      <td>10000</td>\n",
       "      <td>1</td>\n",
       "      <td>0</td>\n",
       "      <td>0</td>\n",
       "      <td>0</td>\n",
       "      <td>0</td>\n",
       "      <td>0</td>\n",
       "      <td>0</td>\n",
       "      <td>0</td>\n",
       "      <td>0</td>\n",
       "      <td>0</td>\n",
       "      <td>0</td>\n",
       "      <td>0</td>\n",
       "      <td>0</td>\n",
       "      <td>0</td>\n",
       "      <td>0</td>\n",
       "      <td>0</td>\n",
       "      <td>0</td>\n",
       "      <td>0</td>\n",
       "      <td>1</td>\n",
       "    </tr>\n",
       "    <tr>\n",
       "      <th>495245</th>\n",
       "      <td>11.71</td>\n",
       "      <td>65000.0</td>\n",
       "      <td>21.49</td>\n",
       "      <td>32200</td>\n",
       "      <td>0</td>\n",
       "      <td>0</td>\n",
       "      <td>0</td>\n",
       "      <td>1</td>\n",
       "      <td>0</td>\n",
       "      <td>0</td>\n",
       "      <td>0</td>\n",
       "      <td>0</td>\n",
       "      <td>0</td>\n",
       "      <td>0</td>\n",
       "      <td>0</td>\n",
       "      <td>0</td>\n",
       "      <td>0</td>\n",
       "      <td>0</td>\n",
       "      <td>0</td>\n",
       "      <td>0</td>\n",
       "      <td>0</td>\n",
       "      <td>0</td>\n",
       "      <td>1</td>\n",
       "    </tr>\n",
       "    <tr>\n",
       "      <th>495246</th>\n",
       "      <td>6.73</td>\n",
       "      <td>35000.0</td>\n",
       "      <td>8.99</td>\n",
       "      <td>2600</td>\n",
       "      <td>0</td>\n",
       "      <td>1</td>\n",
       "      <td>0</td>\n",
       "      <td>0</td>\n",
       "      <td>0</td>\n",
       "      <td>0</td>\n",
       "      <td>0</td>\n",
       "      <td>0</td>\n",
       "      <td>0</td>\n",
       "      <td>0</td>\n",
       "      <td>0</td>\n",
       "      <td>0</td>\n",
       "      <td>0</td>\n",
       "      <td>0</td>\n",
       "      <td>0</td>\n",
       "      <td>0</td>\n",
       "      <td>0</td>\n",
       "      <td>0</td>\n",
       "      <td>1</td>\n",
       "    </tr>\n",
       "  </tbody>\n",
       "</table>\n",
       "</div>"
      ],
      "text/plain": [
       "          dti  annual_inc  int_rate  funded_amnt  grade_A  grade_B  grade_C  \\\n",
       "495242  10.30  95000.0     12.79     8000         0        0        1         \n",
       "495243  12.62  66000.0     17.99     20000        0        0        0         \n",
       "495244  13.42  137500.0    8.59      10000        1        0        0         \n",
       "495245  11.71  65000.0     21.49     32200        0        0        0         \n",
       "495246  6.73   35000.0     8.99      2600         0        1        0         \n",
       "\n",
       "        grade_D  grade_E  grade_F  grade_G  issue_d_Apr-2016  \\\n",
       "495242  0        0        0        0        0                  \n",
       "495243  1        0        0        0        0                  \n",
       "495244  0        0        0        0        0                  \n",
       "495245  1        0        0        0        0                  \n",
       "495246  0        0        0        0        0                  \n",
       "\n",
       "        issue_d_Aug-2016  issue_d_Dec-2015  issue_d_Feb-2016  \\\n",
       "495242  0                 0                 0                  \n",
       "495243  0                 0                 0                  \n",
       "495244  0                 0                 0                  \n",
       "495245  0                 0                 0                  \n",
       "495246  0                 0                 0                  \n",
       "\n",
       "        issue_d_Jan-2016  issue_d_Jul-2016  issue_d_Jun-2016  \\\n",
       "495242  0                 0                 0                  \n",
       "495243  0                 0                 0                  \n",
       "495244  0                 0                 0                  \n",
       "495245  0                 0                 0                  \n",
       "495246  0                 0                 0                  \n",
       "\n",
       "        issue_d_Mar-2016  issue_d_May-2016  issue_d_Nov-2016  \\\n",
       "495242  0                 0                 0                  \n",
       "495243  0                 0                 0                  \n",
       "495244  0                 0                 0                  \n",
       "495245  0                 0                 0                  \n",
       "495246  0                 0                 0                  \n",
       "\n",
       "        issue_d_Oct-2016  issue_d_Sep-2016  \n",
       "495242  0                 1                 \n",
       "495243  0                 1                 \n",
       "495244  0                 1                 \n",
       "495245  0                 1                 \n",
       "495246  0                 1                 "
      ]
     },
     "execution_count": 1605,
     "metadata": {
      "bento_obj_id": "140447351194448"
     },
     "output_type": "execute_result"
    }
   ],
   "source": [
    "features.head()"
   ]
  },
  {
   "cell_type": "markdown",
   "metadata": {},
   "source": [
    "Splitting Historical Data into Training and Evaluation Datasets"
   ]
  },
  {
   "cell_type": "code",
   "execution_count": 1606,
   "metadata": {
    "collapsed": true
   },
   "outputs": [],
   "source": [
    "features_train, features_test, label_train, label_test = train_test_split(\n",
    "    features, \n",
    "    label, \n",
    "    test_size=0.25, \n",
    "    random_state=0\n",
    ")"
   ]
  },
  {
   "cell_type": "markdown",
   "metadata": {},
   "source": [
    "Scale and Normalize Features"
   ]
  },
  {
   "cell_type": "code",
   "execution_count": 1607,
   "metadata": {
    "collapsed": true
   },
   "outputs": [],
   "source": [
    "sc_x = StandardScaler()\n",
    "features_train = sc_x.fit_transform(features_train)  \n",
    "features_test = sc_x.transform(features_test) "
   ]
  },
  {
   "cell_type": "markdown",
   "metadata": {},
   "source": [
    "Fit Model and Predict on Evaluation Dataset"
   ]
  },
  {
   "cell_type": "code",
   "execution_count": 1608,
   "metadata": {},
   "outputs": [
    {
     "data": {
      "text/plain": [
       "LogisticRegression(C=100, class_weight='balanced', dual=False,\n",
       "          fit_intercept=True, intercept_scaling=1, max_iter=100,\n",
       "          multi_class='warn', n_jobs=None, penalty='l2', random_state=None,\n",
       "          solver='warn', tol=0.0001, verbose=0, warm_start=False)"
      ]
     },
     "execution_count": 1608,
     "metadata": {
      "bento_obj_id": "140445273174160"
     },
     "output_type": "execute_result"
    }
   ],
   "source": [
    "logreg = LogisticRegression(C=100, class_weight='balanced')\n",
    "logreg.fit(features_train, label_train)"
   ]
  },
  {
   "cell_type": "code",
   "execution_count": 1611,
   "metadata": {
    "collapsed": true
   },
   "outputs": [],
   "source": [
    "label_pred=logreg.predict(features_test)"
   ]
  },
  {
   "cell_type": "markdown",
   "metadata": {},
   "source": [
    "Evaluation Metrics of Baseline Model"
   ]
  },
  {
   "cell_type": "markdown",
   "metadata": {},
   "source": [
    "• Model accurately identifies 65% of defaulted loans (recall), which is effective but not well-performing. Because there is probably a higher business cost of having more inaccurately classified defaulted loans (false positives), it is important to have high recall. If we seek to maximize for identifying all default labels, optimizing for recall is most important."
   ]
  },
  {
   "cell_type": "markdown",
   "metadata": {},
   "source": [
    "• Of the identified default labels, only 58% are actually defaults. This indicates the model is only slightly better than random at distinguishing real default labels from false negatives."
   ]
  },
  {
   "cell_type": "markdown",
   "metadata": {},
   "source": [
    "• The F1 score, which measures the model's balance between precision and recall given both have business costs indicates the model is minimizing false negatives and false positives. "
   ]
  },
  {
   "cell_type": "markdown",
   "metadata": {},
   "source": [
    "• Model is not over/under-fit as RMSE of train and test groups nearly match."
   ]
  },
  {
   "cell_type": "code",
   "execution_count": 1612,
   "metadata": {
    "collapsed": true
   },
   "outputs": [],
   "source": [
    "confusion_matrix = pd.crosstab(label_test, label_pred, rownames=['Actual'], colnames=['Predicted'])"
   ]
  },
  {
   "cell_type": "code",
   "execution_count": 1613,
   "metadata": {},
   "outputs": [
    {
     "data": {
      "text/plain": [
       "<matplotlib.axes._subplots.AxesSubplot at 0x7fbbf5f923d0>"
      ]
     },
     "execution_count": 1613,
     "metadata": {
      "bento_obj_id": "140445262357456"
     },
     "output_type": "execute_result"
    },
    {
     "data": {
      "image/png": "[encoded data removed]",
      "text/plain": [
       "<Figure size 432x288 with 2 Axes>"
      ]
     },
     "metadata": {
      "bento_obj_id": "140447351197648"
     },
     "output_type": "display_data"
    }
   ],
   "source": [
    "sns.heatmap(confusion_matrix, annot=True, cmap=pal)"
   ]
  },
  {
   "cell_type": "code",
   "execution_count": 1614,
   "metadata": {},
   "outputs": [
    {
     "name": "stdout",
     "output_type": "stream",
     "text": [
      "Accuracy: 0.5923764670563181\n",
      "Precision: 0.5798235225434104\n",
      "Recall: 0.6556205205582799\n"
     ]
    }
   ],
   "source": [
    "print(\"Accuracy:\", metrics.accuracy_score(label_test, label_pred))\n",
    "print(\"Precision:\", metrics.precision_score(label_test, label_pred))\n",
    "print(\"Recall:\", metrics.recall_score(label_test, label_pred))"
   ]
  },
  {
   "cell_type": "code",
   "execution_count": 1615,
   "metadata": {},
   "outputs": [
    {
     "data": {
      "text/plain": [
       "0.6153968717635498"
      ]
     },
     "execution_count": 1615,
     "metadata": {
      "bento_obj_id": "140445250864304"
     },
     "output_type": "execute_result"
    }
   ],
   "source": [
    "f1_score(label_test,label_pred)"
   ]
  },
  {
   "cell_type": "code",
   "execution_count": 1616,
   "metadata": {},
   "outputs": [
    {
     "name": "stdout",
     "output_type": "stream",
     "text": [
      "              precision    recall  f1-score   support\n",
      "\n",
      "           0       0.61      0.53      0.57     53571\n",
      "           1       0.58      0.66      0.62     53020\n",
      "\n",
      "   micro avg       0.59      0.59      0.59    106591\n",
      "   macro avg       0.59      0.59      0.59    106591\n",
      "weighted avg       0.59      0.59      0.59    106591\n",
      "\n"
     ]
    }
   ],
   "source": [
    "print(classification_report(label_test,label_pred))"
   ]
  },
  {
   "cell_type": "markdown",
   "metadata": {},
   "source": [
    "Model is well-fit because RMSE on both train and test datasets are nearly the same."
   ]
  },
  {
   "cell_type": "code",
   "execution_count": 1617,
   "metadata": {},
   "outputs": [
    {
     "data": {
      "text/plain": [
       "0.6384540178773112"
      ]
     },
     "execution_count": 1617,
     "metadata": {
      "bento_obj_id": "140447371211408"
     },
     "output_type": "execute_result"
    }
   ],
   "source": [
    "eval_rmse(label_pred, label_test)"
   ]
  },
  {
   "cell_type": "code",
   "execution_count": 1618,
   "metadata": {
    "collapsed": true
   },
   "outputs": [],
   "source": [
    "label_pred_train=logreg.predict(features_train)"
   ]
  },
  {
   "cell_type": "code",
   "execution_count": 1619,
   "metadata": {},
   "outputs": [
    {
     "data": {
      "text/plain": [
       "0.6366696047262091"
      ]
     },
     "execution_count": 1619,
     "metadata": {
      "bento_obj_id": "140444031714736"
     },
     "output_type": "execute_result"
    }
   ],
   "source": [
    "eval_rmse(label_pred_train, label_train)"
   ]
  },
  {
   "cell_type": "markdown",
   "metadata": {
    "collapsed": true
   },
   "source": [
    "### Next Steps"
   ]
  },
  {
   "cell_type": "markdown",
   "metadata": {},
   "source": [
    "Evaluation Metrics"
   ]
  },
  {
   "cell_type": "markdown",
   "metadata": {},
   "source": [
    "• Using k-fold cross validation would be ideal to ensure confidence in evaluation metrics."
   ]
  },
  {
   "cell_type": "markdown",
   "metadata": {},
   "source": [
    "• Increase suite of evaluation metrics to improve and build cohesive story. In particular, use AUC/ROC to further detail the model's ability to distinguish the two classes. Further, use the Gini index to understand model performance relative to random prediction. "
   ]
  },
  {
   "cell_type": "markdown",
   "metadata": {},
   "source": [
    "Feature Selection and Understanding"
   ]
  },
  {
   "cell_type": "markdown",
   "metadata": {},
   "source": [
    "• Try both forward and backward feature selection to parameter tune model. "
   ]
  },
  {
   "cell_type": "markdown",
   "metadata": {},
   "source": [
    "• Evaluate different feature importance algorithms (ex: permutation, chi, kbest) for feature selection."
   ]
  },
  {
   "cell_type": "markdown",
   "metadata": {},
   "source": [
    "• Use LIME (local) or Shapley (global) as feature explainers to better understand the effect of each feature on predicting if a user will default. Evaluate over different cohorts. "
   ]
  },
  {
   "cell_type": "markdown",
   "metadata": {},
   "source": [
    "• Evaluate post-training feature correlation and evaluate removing correlated features for improved performance."
   ]
  },
  {
   "cell_type": "markdown",
   "metadata": {},
   "source": [
    "Model Type"
   ]
  },
  {
   "cell_type": "markdown",
   "metadata": {},
   "source": [
    "• Fit other model types to evaluate the best model fit which most effectively classifies defaulted loans at origination time (especially linear regression for a baseline, GBDT and Random Forest, and Neural Network). "
   ]
  }
 ],
 "metadata": {
  "bento_stylesheets": {
   "bento/extensions/flow/main.css": true,
   "bento/extensions/kernel_selector/main.css": true,
   "bento/extensions/kernel_ui/main.css": true,
   "bento/extensions/new_kernel/main.css": true,
   "bento/extensions/system_usage/main.css": true,
   "bento/extensions/theme/main.css": true
  },
  "kernelspec": {
   "display_name": "Python 3",
   "language": "python",
   "name": "bento_kernel_default"
  },
  "language_info": {
   "codemirror_mode": {
    "name": "ipython",
    "version": 3
   },
   "file_extension": ".py",
   "mimetype": "text/x-python",
   "name": "python",
   "nbconvert_exporter": "python",
   "pygments_lexer": "ipython3",
   "version": "3.7.5+"
  }
 },
 "nbformat": 4,
 "nbformat_minor": 2
}
